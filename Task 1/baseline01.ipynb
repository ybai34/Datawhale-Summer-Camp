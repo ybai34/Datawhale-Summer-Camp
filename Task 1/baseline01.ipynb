{
 "cells": [
  {
   "cell_type": "code",
   "execution_count": 1,
   "metadata": {
    "ExecutionIndicator": {
     "show": true
    },
    "tags": []
   },
   "outputs": [
    {
     "name": "stdout",
     "output_type": "stream",
     "text": [
      "Looking in indexes: https://mirrors.cernet.edu.cn/pypi/web/simple\n",
      "Collecting scipy\n",
      "  Downloading https://mirrors4.tuna.tsinghua.edu.cn/pypi/web/packages/69/f0/fb07a9548e48b687b8bf2fa81d71aba9cfc548d365046ca1c791e24db99d/scipy-1.10.1-cp38-cp38-manylinux_2_17_x86_64.manylinux2014_x86_64.whl (34.5 MB)\n",
      "\u001b[2K     \u001b[90m━━━━━━━━━━━━━━━━━━━━━━━━━━━━━━━━━━━━━━━━\u001b[0m \u001b[32m34.5/34.5 MB\u001b[0m \u001b[31m24.4 MB/s\u001b[0m eta \u001b[36m0:00:00\u001b[0m00:01\u001b[0m00:01\u001b[0m\n",
      "\u001b[?25hCollecting openai\n",
      "  Downloading https://mirrors4.tuna.tsinghua.edu.cn/pypi/web/packages/ad/11/7f75f22019777c18c933df6cc0fff4095df3b35f087a1a4c2bd3ca841bd1/openai-1.37.0-py3-none-any.whl (337 kB)\n",
      "\u001b[2K     \u001b[90m━━━━━━━━━━━━━━━━━━━━━━━━━━━━━━━━━━━━━━\u001b[0m \u001b[32m337.0/337.0 kB\u001b[0m \u001b[31m22.9 MB/s\u001b[0m eta \u001b[36m0:00:00\u001b[0m\n",
      "\u001b[?25hCollecting tiktoken\n",
      "  Downloading https://mirrors4.tuna.tsinghua.edu.cn/pypi/web/packages/77/ba/e4149aa0724a5268ab10014a028668c6ef8834862f955ef0c6758240f6d1/tiktoken-0.7.0-cp38-cp38-manylinux_2_17_x86_64.manylinux2014_x86_64.whl (1.1 MB)\n",
      "\u001b[2K     \u001b[90m━━━━━━━━━━━━━━━━━━━━━━━━━━━━━━━━━━━━━━━━\u001b[0m \u001b[32m1.1/1.1 MB\u001b[0m \u001b[31m20.9 MB/s\u001b[0m eta \u001b[36m0:00:00\u001b[0ma \u001b[36m0:00:01\u001b[0m\n",
      "\u001b[?25hCollecting retry\n",
      "  Downloading https://mirrors4.tuna.tsinghua.edu.cn/pypi/web/packages/4b/0d/53aea75710af4528a25ed6837d71d117602b01946b307a3912cb3cfcbcba/retry-0.9.2-py2.py3-none-any.whl (8.0 kB)\n",
      "Collecting dashscope\n",
      "  Downloading https://mirrors4.tuna.tsinghua.edu.cn/pypi/web/packages/f1/0d/b6ff94f573cd3a3adb556cad4bb499057f294cc7e9bd1d2fbe53667d4f39/dashscope-1.20.3-py3-none-any.whl (1.3 MB)\n",
      "\u001b[2K     \u001b[90m━━━━━━━━━━━━━━━━━━━━━━━━━━━━━━━━━━━━━━━━\u001b[0m \u001b[32m1.3/1.3 MB\u001b[0m \u001b[31m22.8 MB/s\u001b[0m eta \u001b[36m0:00:00\u001b[0ma \u001b[36m0:00:01\u001b[0m\n",
      "\u001b[?25hCollecting loguru\n",
      "  Downloading https://mirrors4.tuna.tsinghua.edu.cn/pypi/web/packages/03/0a/4f6fed21aa246c6b49b561ca55facacc2a44b87d65b8b92362a8e99ba202/loguru-0.7.2-py3-none-any.whl (62 kB)\n",
      "\u001b[2K     \u001b[90m━━━━━━━━━━━━━━━━━━━━━━━━━━━━━━━━━━━━━━━━\u001b[0m \u001b[32m62.5/62.5 kB\u001b[0m \u001b[31m14.4 MB/s\u001b[0m eta \u001b[36m0:00:00\u001b[0m\n",
      "\u001b[?25hRequirement already satisfied: numpy<1.27.0,>=1.19.5 in ./miniconda3/lib/python3.8/site-packages (from scipy) (1.23.1)\n",
      "Requirement already satisfied: anyio<5,>=3.5.0 in ./miniconda3/lib/python3.8/site-packages (from openai) (3.6.1)\n",
      "Collecting distro<2,>=1.7.0 (from openai)\n",
      "  Downloading https://mirrors4.tuna.tsinghua.edu.cn/pypi/web/packages/12/b3/231ffd4ab1fc9d679809f356cebee130ac7daa00d6d6f3206dd4fd137e9e/distro-1.9.0-py3-none-any.whl (20 kB)\n",
      "Collecting httpx<1,>=0.23.0 (from openai)\n",
      "  Downloading https://mirrors4.tuna.tsinghua.edu.cn/pypi/web/packages/41/7b/ddacf6dcebb42466abd03f368782142baa82e08fc0c1f8eaa05b4bae87d5/httpx-0.27.0-py3-none-any.whl (75 kB)\n",
      "\u001b[2K     \u001b[90m━━━━━━━━━━━━━━━━━━━━━━━━━━━━━━━━━━━━━━━━\u001b[0m \u001b[32m75.6/75.6 kB\u001b[0m \u001b[31m8.2 MB/s\u001b[0m eta \u001b[36m0:00:00\u001b[0m\n",
      "\u001b[?25hCollecting pydantic<3,>=1.9.0 (from openai)\n",
      "  Downloading https://mirrors4.tuna.tsinghua.edu.cn/pypi/web/packages/1f/fa/b7f815b8c9ad021c07f88875b601222ef5e70619391ade4a49234d12d278/pydantic-2.8.2-py3-none-any.whl (423 kB)\n",
      "\u001b[2K     \u001b[90m━━━━━━━━━━━━━━━━━━━━━━━━━━━━━━━━━━━━━━\u001b[0m \u001b[32m423.9/423.9 kB\u001b[0m \u001b[31m20.0 MB/s\u001b[0m eta \u001b[36m0:00:00\u001b[0m\n",
      "\u001b[?25hRequirement already satisfied: sniffio in ./miniconda3/lib/python3.8/site-packages (from openai) (1.2.0)\n",
      "Requirement already satisfied: tqdm>4 in ./miniconda3/lib/python3.8/site-packages (from openai) (4.61.2)\n",
      "Requirement already satisfied: typing-extensions<5,>=4.7 in ./miniconda3/lib/python3.8/site-packages (from openai) (4.12.2)\n",
      "Collecting regex>=2022.1.18 (from tiktoken)\n",
      "  Downloading https://mirrors4.tuna.tsinghua.edu.cn/pypi/web/packages/c2/c6/023e5b634e5b72034f9e0c36396648e1481f3482c739d1b456b3e5061243/regex-2024.7.24-cp38-cp38-manylinux_2_17_x86_64.manylinux2014_x86_64.whl (778 kB)\n",
      "\u001b[2K     \u001b[90m━━━━━━━━━━━━━━━━━━━━━━━━━━━━━━━━━━━━━━\u001b[0m \u001b[32m778.9/778.9 kB\u001b[0m \u001b[31m15.3 MB/s\u001b[0m eta \u001b[36m0:00:00\u001b[0ma \u001b[36m0:00:01\u001b[0m\n",
      "\u001b[?25hCollecting requests>=2.26.0 (from tiktoken)\n",
      "  Downloading https://mirrors4.tuna.tsinghua.edu.cn/pypi/web/packages/f9/9b/335f9764261e915ed497fcdeb11df5dfd6f7bf257d4a6a2a686d80da4d54/requests-2.32.3-py3-none-any.whl (64 kB)\n",
      "\u001b[2K     \u001b[90m━━━━━━━━━━━━━━━━━━━━━━━━━━━━━━━━━━━━━━━━\u001b[0m \u001b[32m64.9/64.9 kB\u001b[0m \u001b[31m10.6 MB/s\u001b[0m eta \u001b[36m0:00:00\u001b[0m\n",
      "\u001b[?25hRequirement already satisfied: decorator>=3.4.2 in ./miniconda3/lib/python3.8/site-packages (from retry) (5.1.1)\n",
      "Collecting py<2.0.0,>=1.4.26 (from retry)\n",
      "  Downloading https://mirrors4.tuna.tsinghua.edu.cn/pypi/web/packages/f6/f0/10642828a8dfb741e5f3fbaac830550a518a775c7fff6f04a007259b0548/py-1.11.0-py2.py3-none-any.whl (98 kB)\n",
      "\u001b[2K     \u001b[90m━━━━━━━━━━━━━━━━━━━━━━━━━━━━━━━━━━━━━━━\u001b[0m \u001b[32m98.7/98.7 kB\u001b[0m \u001b[31m394.3 kB/s\u001b[0m eta \u001b[36m0:00:00\u001b[0m \u001b[36m0:00:01\u001b[0m\n",
      "\u001b[?25hCollecting aiohttp (from dashscope)\n",
      "  Downloading https://mirrors4.tuna.tsinghua.edu.cn/pypi/web/packages/bf/85/6166b71dc124cbca726f1d062218a61f2541d7c5192bef8c9b518b787132/aiohttp-3.9.5-cp38-cp38-manylinux_2_17_x86_64.manylinux2014_x86_64.whl (1.3 MB)\n",
      "\u001b[2K     \u001b[90m━━━━━━━━━━━━━━━━━━━━━━━━━━━━━━━━━━━━━━━━\u001b[0m \u001b[32m1.3/1.3 MB\u001b[0m \u001b[31m9.8 MB/s\u001b[0m eta \u001b[36m0:00:00\u001b[0mta \u001b[36m0:00:01\u001b[0m\n",
      "\u001b[?25hRequirement already satisfied: websocket-client in ./miniconda3/lib/python3.8/site-packages (from dashscope) (1.3.3)\n",
      "Requirement already satisfied: idna>=2.8 in ./miniconda3/lib/python3.8/site-packages (from anyio<5,>=3.5.0->openai) (2.10)\n",
      "Requirement already satisfied: certifi in ./miniconda3/lib/python3.8/site-packages (from httpx<1,>=0.23.0->openai) (2021.5.30)\n",
      "Collecting httpcore==1.* (from httpx<1,>=0.23.0->openai)\n",
      "  Downloading https://mirrors4.tuna.tsinghua.edu.cn/pypi/web/packages/78/d4/e5d7e4f2174f8a4d63c8897d79eb8fe2503f7ecc03282fee1fa2719c2704/httpcore-1.0.5-py3-none-any.whl (77 kB)\n",
      "\u001b[2K     \u001b[90m━━━━━━━━━━━━━━━━━━━━━━━━━━━━━━━━━━━━━━━━\u001b[0m \u001b[32m77.9/77.9 kB\u001b[0m \u001b[31m9.0 MB/s\u001b[0m eta \u001b[36m0:00:00\u001b[0m\n",
      "\u001b[?25hCollecting h11<0.15,>=0.13 (from httpcore==1.*->httpx<1,>=0.23.0->openai)\n",
      "  Downloading https://mirrors4.tuna.tsinghua.edu.cn/pypi/web/packages/95/04/ff642e65ad6b90db43e668d70ffb6736436c7ce41fcc549f4e9472234127/h11-0.14.0-py3-none-any.whl (58 kB)\n",
      "\u001b[2K     \u001b[90m━━━━━━━━━━━━━━━━━━━━━━━━━━━━━━━━━━━━━━━━\u001b[0m \u001b[32m58.3/58.3 kB\u001b[0m \u001b[31m16.8 MB/s\u001b[0m eta \u001b[36m0:00:00\u001b[0m\n",
      "\u001b[?25hCollecting annotated-types>=0.4.0 (from pydantic<3,>=1.9.0->openai)\n",
      "  Downloading https://mirrors4.tuna.tsinghua.edu.cn/pypi/web/packages/78/b6/6307fbef88d9b5ee7421e68d78a9f162e0da4900bc5f5793f6d3d0e34fb8/annotated_types-0.7.0-py3-none-any.whl (13 kB)\n",
      "Collecting pydantic-core==2.20.1 (from pydantic<3,>=1.9.0->openai)\n",
      "  Downloading https://mirrors4.tuna.tsinghua.edu.cn/pypi/web/packages/b3/e1/d394444899ff3bbd694151563c23fbde90ddab588482db5e702ca0715edb/pydantic_core-2.20.1-cp38-cp38-manylinux_2_17_x86_64.manylinux2014_x86_64.whl (2.1 MB)\n",
      "\u001b[2K     \u001b[90m━━━━━━━━━━━━━━━━━━━━━━━━━━━━━━━━━━━━━━━━\u001b[0m \u001b[32m2.1/2.1 MB\u001b[0m \u001b[31m15.8 MB/s\u001b[0m eta \u001b[36m0:00:00\u001b[0ma \u001b[36m0:00:01\u001b[0m\n",
      "\u001b[?25hCollecting charset-normalizer<4,>=2 (from requests>=2.26.0->tiktoken)\n",
      "  Downloading https://mirrors4.tuna.tsinghua.edu.cn/pypi/web/packages/3d/09/d82fe4a34c5f0585f9ea1df090e2a71eb9bb1e469723053e1ee9f57c16f3/charset_normalizer-3.3.2-cp38-cp38-manylinux_2_17_x86_64.manylinux2014_x86_64.whl (141 kB)\n",
      "\u001b[2K     \u001b[90m━━━━━━━━━━━━━━━━━━━━━━━━━━━━━━━━━━━━━━\u001b[0m \u001b[32m141.1/141.1 kB\u001b[0m \u001b[31m11.1 MB/s\u001b[0m eta \u001b[36m0:00:00\u001b[0m\n",
      "\u001b[?25hRequirement already satisfied: urllib3<3,>=1.21.1 in ./miniconda3/lib/python3.8/site-packages (from requests>=2.26.0->tiktoken) (1.26.6)\n",
      "Collecting aiosignal>=1.1.2 (from aiohttp->dashscope)\n",
      "  Downloading https://mirrors4.tuna.tsinghua.edu.cn/pypi/web/packages/76/ac/a7305707cb852b7e16ff80eaf5692309bde30e2b1100a1fcacdc8f731d97/aiosignal-1.3.1-py3-none-any.whl (7.6 kB)\n",
      "Requirement already satisfied: attrs>=17.3.0 in ./miniconda3/lib/python3.8/site-packages (from aiohttp->dashscope) (22.1.0)\n",
      "Collecting frozenlist>=1.1.1 (from aiohttp->dashscope)\n",
      "  Downloading https://mirrors4.tuna.tsinghua.edu.cn/pypi/web/packages/45/4d/175b16d42daae8013bb1872f6d0870abd87da93e0a36706da4c9ba655d19/frozenlist-1.4.1-cp38-cp38-manylinux_2_5_x86_64.manylinux1_x86_64.manylinux_2_17_x86_64.manylinux2014_x86_64.whl (240 kB)\n",
      "\u001b[2K     \u001b[90m━━━━━━━━━━━━━━━━━━━━━━━━━━━━━━━━━━━━━━\u001b[0m \u001b[32m240.9/240.9 kB\u001b[0m \u001b[31m11.8 MB/s\u001b[0m eta \u001b[36m0:00:00\u001b[0m\n",
      "\u001b[?25hCollecting multidict<7.0,>=4.5 (from aiohttp->dashscope)\n",
      "  Downloading https://mirrors4.tuna.tsinghua.edu.cn/pypi/web/packages/61/a3/c307d4af64e695d13e8587d3f996a51b134156c0e8e2e26f4135bb2bf517/multidict-6.0.5-cp38-cp38-manylinux_2_17_x86_64.manylinux2014_x86_64.whl (129 kB)\n",
      "\u001b[2K     \u001b[90m━━━━━━━━━━━━━━━━━━━━━━━━━━━━━━━━━━━━━\u001b[0m \u001b[32m129.3/129.3 kB\u001b[0m \u001b[31m520.5 kB/s\u001b[0m eta \u001b[36m0:00:00\u001b[0ma \u001b[36m0:00:01\u001b[0m\n",
      "\u001b[?25hCollecting yarl<2.0,>=1.0 (from aiohttp->dashscope)\n",
      "  Downloading https://mirrors4.tuna.tsinghua.edu.cn/pypi/web/packages/58/c0/8d9a1c02f217f900f248e0ee31377849f4041aff3d36b71b1f30b4a0fa33/yarl-1.9.4-cp38-cp38-manylinux_2_17_x86_64.manylinux2014_x86_64.whl (308 kB)\n",
      "\u001b[2K     \u001b[90m━━━━━━━━━━━━━━━━━━━━━━━━━━━━━━━━━━━━━━\u001b[0m \u001b[32m308.8/308.8 kB\u001b[0m \u001b[31m13.2 MB/s\u001b[0m eta \u001b[36m0:00:00\u001b[0m\n",
      "\u001b[?25hCollecting async-timeout<5.0,>=4.0 (from aiohttp->dashscope)\n",
      "  Downloading https://mirrors4.tuna.tsinghua.edu.cn/pypi/web/packages/a7/fa/e01228c2938de91d47b307831c62ab9e4001e747789d0b05baf779a6488c/async_timeout-4.0.3-py3-none-any.whl (5.7 kB)\n",
      "Installing collected packages: scipy, regex, pydantic-core, py, multidict, loguru, h11, frozenlist, distro, charset-normalizer, async-timeout, annotated-types, yarl, retry, requests, pydantic, httpcore, aiosignal, tiktoken, httpx, aiohttp, openai, dashscope\n",
      "  Attempting uninstall: requests\n",
      "    Found existing installation: requests 2.25.1\n",
      "    Uninstalling requests-2.25.1:\n",
      "      Successfully uninstalled requests-2.25.1\n",
      "Successfully installed aiohttp-3.9.5 aiosignal-1.3.1 annotated-types-0.7.0 async-timeout-4.0.3 charset-normalizer-3.3.2 dashscope-1.20.3 distro-1.9.0 frozenlist-1.4.1 h11-0.14.0 httpcore-1.0.5 httpx-0.27.0 loguru-0.7.2 multidict-6.0.5 openai-1.37.0 py-1.11.0 pydantic-2.8.2 pydantic-core-2.20.1 regex-2024.7.24 requests-2.32.3 retry-0.9.2 scipy-1.10.1 tiktoken-0.7.0 yarl-1.9.4\n",
      "\u001b[33mWARNING: Running pip as the 'root' user can result in broken permissions and conflicting behaviour with the system package manager, possibly rendering your system unusable.It is recommended to use a virtual environment instead: https://pip.pypa.io/warnings/venv. Use the --root-user-action option if you know what you are doing and want to suppress this warning.\u001b[0m\u001b[33m\n",
      "\u001b[0m"
     ]
    }
   ],
   "source": [
    "!pip install scipy openai tiktoken retry dashscope loguru"
   ]
  },
  {
   "cell_type": "code",
   "execution_count": 2,
   "metadata": {
    "ExecutionIndicator": {
     "show": true
    },
    "tags": []
   },
   "outputs": [],
   "source": [
    "from multiprocessing import Process, Manager\n",
    "import json\n",
    "import os\n",
    "from pprint import pprint\n",
    "import re\n",
    "from tqdm import tqdm\n",
    "import random\n",
    "\n",
    "import uuid\n",
    "import openai\n",
    "import tiktoken\n",
    "import json\n",
    "import numpy as np\n",
    "import requests\n",
    "from retry import retry\n",
    "from scipy import sparse\n",
    "#from rank_bm25 import BM25Okapi\n",
    "#import jieba\n",
    "from http import HTTPStatus\n",
    "import dashscope\n",
    "\n",
    "\n",
    "from concurrent.futures import ThreadPoolExecutor, as_completed\n",
    "from loguru import logger\n",
    "import json\n",
    "import time\n",
    "from tqdm import tqdm\n",
    "\n",
    "logger.remove()  # 移除默认的控制台输出\n",
    "logger.add(\"logs/app_{time:YYYY-MM-DD}.log\", level=\"INFO\", rotation=\"00:00\", retention=\"10 days\", compression=\"zip\")\n",
    "\n",
    "MODEL_NAME = 'qwen2-7b-instruct'"
   ]
  },
  {
   "cell_type": "code",
   "execution_count": 3,
   "metadata": {
    "tags": []
   },
   "outputs": [],
   "source": [
    "# 注意：这里需要填入你的key~ 咱们在第二步申请的。\n",
    "dashscope.api_key=\"sk-b303026c4f004b48b7005dea911202ae\""
   ]
  },
  {
   "cell_type": "markdown",
   "metadata": {},
   "source": [
    "这段代码定义了一个名为 call_qwen_api 的函数，该函数用于调用一个名为 dashscope.Generation 的 API 来生成文本。以下是该代码的功能、用途和特点的详细介绍：\n",
    "\n",
    "* 功能\n",
    "调用 API 生成文本：该函数通过传递一个模型名称 (MODEL_NAME) 和一个查询 (query) 来调用 dashscope.Generation.call 方法，生成相应的文本。\n",
    "处理 API 响应：函数会检查 API 的响应状态码，如果状态码为 HTTPStatus.OK，则提取并返回生成的文本内容。如果状态码不是 HTTPStatus.OK，则打印错误信息并抛出异常。\n",
    "* 用途\n",
    "文本生成：该函数主要用于通过调用外部 API 来生成文本，适用于需要动态生成内容的场景，如聊天机器人、内容创作辅助等。\n",
    "错误处理：通过检查 API 响应状态码并处理错误情况，确保在调用失败时能够及时发现并处理问题。\n",
    "* 特点\n",
    "重试机制：函数使用了 @retry(delay=3, tries=3) 装饰器，这意味着在调用 API 失败时，函数会自动重试最多 3 次，每次重试间隔 3 秒。\n",
    "消息格式：在调用 API 时，设置了 result_format='message'，表示期望的响应格式是消息格式。\n",
    "错误处理：在 API 调用失败时，函数会打印详细的错误信息，包括请求 ID、状态码、错误代码和错误消息，并抛出异常，以便上层调用者能够捕获并处理这些错误。"
   ]
  },
  {
   "cell_type": "code",
   "execution_count": 4,
   "metadata": {
    "tags": []
   },
   "outputs": [],
   "source": [
    "def api_retry(MODEL_NAME, query):\n",
    "    max_retries = 5\n",
    "    retry_delay = 60  # in seconds\n",
    "    attempts = 0\n",
    "    while attempts < max_retries:\n",
    "        try:\n",
    "            return call_qwen_api(MODEL_NAME, query)\n",
    "        except Exception as e:\n",
    "            attempts += 1   \n",
    "            if attempts < max_retries:\n",
    "                logger.warning(f\"Attempt {attempts} failed for text: {query}. Retrying in {retry_delay} seconds...\")\n",
    "                time.sleep(retry_delay)\n",
    "            else:\n",
    "                logger.error(f\"All {max_retries} attempts failed for text: {query}. Error: {e}\")\n",
    "                raise"
   ]
  },
  {
   "cell_type": "code",
   "execution_count": 5,
   "metadata": {
    "tags": []
   },
   "outputs": [],
   "source": [
    "def call_qwen_api(MODEL_NAME, query):\n",
    "    # 这里采用dashscope的api调用模型推理，通过http传输的json封装返回结果\n",
    "    messages = [\n",
    "        {'role': 'user', 'content': query}]\n",
    "    response = dashscope.Generation.call(\n",
    "        MODEL_NAME,\n",
    "        messages=messages,\n",
    "        result_format='message',  # set the result is message format.\n",
    "    )\n",
    "    if response.status_code == HTTPStatus.OK:\n",
    "        # print(response)\n",
    "        return response['output']['choices'][0]['message']['content']\n",
    "    else:\n",
    "        print('Request id: %s, Status code: %s, error code: %s, error message: %s' % (\n",
    "            response.request_id, response.status_code,\n",
    "            response.code, response.message\n",
    "        ))\n",
    "        raise Exception()"
   ]
  },
  {
   "cell_type": "code",
   "execution_count": 6,
   "metadata": {
    "ExecutionIndicator": {
     "show": true
    },
    "tags": []
   },
   "outputs": [],
   "source": [
    "# 这里定义了prompt推理模版\n",
    "\n",
    "def get_prompt(problem, question, options):\n",
    "\n",
    "    options = '\\n'.join(f\"{'ABCDEFG'[i]}. {o}\" for i, o in enumerate(options))\n",
    "\n",
    "    prompt = f\"\"\"你是一个逻辑推理专家，擅长解决逻辑推理问题。以下是一个逻辑推理的题目，形式为单项选择题。所有的问题都是（close-world assumption）闭世界假设，即未观测事实都为假。请逐步分析问题并在最后一行输出答案，最后一行的格式为\"答案是：A\"。题目如下：\n",
    "\n",
    "### 题目:\n",
    "{problem}\n",
    "\n",
    "### 问题:\n",
    "{question}\n",
    "{options}\n",
    "\"\"\"\n",
    "    # print(prompt)\n",
    "    return prompt\n"
   ]
  },
  {
   "cell_type": "code",
   "execution_count": 7,
   "metadata": {
    "tags": []
   },
   "outputs": [],
   "source": [
    "# 这里使用extract抽取模获得抽取的结果\n",
    "\n",
    "def extract(input_text):\n",
    "    ans_pattern = re.compile(r\"答案是：(.)\", re.S)\n",
    "\n",
    "    problems = ans_pattern.findall(input_text)\n",
    "    # print(problems)\n",
    "    if(problems == ''):\n",
    "        return 'A'\n",
    "    return problems[0]"
   ]
  },
  {
   "cell_type": "code",
   "execution_count": 8,
   "metadata": {
    "ExecutionIndicator": {
     "show": true
    },
    "tags": []
   },
   "outputs": [],
   "source": [
    "def process_datas(datas,MODEL_NAME):\n",
    "    results = []\n",
    "    with ThreadPoolExecutor(max_workers=16) as executor:\n",
    "        future_data = {}\n",
    "        lasttask = ''\n",
    "        lastmark = 0\n",
    "        lens = 0\n",
    "        for data in tqdm(datas, desc=\"Submitting tasks\", total=len(datas)):\n",
    "            problem = data['problem']\n",
    "            for id,question in enumerate(data['questions']):\n",
    "                prompt = get_prompt(problem, \n",
    "                                    question['question'], \n",
    "                                    question['options'],\n",
    "                                    )\n",
    "\n",
    "                future = executor.submit(api_retry, MODEL_NAME, prompt)\n",
    "                \n",
    "                future_data[future] = (data,id)\n",
    "                time.sleep(0.6)  # 控制每0.5秒提交一个任务\n",
    "                lens += 1\n",
    "        for future in tqdm(as_completed(future_data), total=lens, desc=\"Processing tasks\"):\n",
    "            # print('data',data)\n",
    "            data = future_data[future][0]\n",
    "            problem_id = future_data[future][1]\n",
    "            try:\n",
    "                res  = future.result()\n",
    "                extract_response = extract(res)\n",
    "                # print('res',extract_response)\n",
    "                data['questions'][problem_id]['answer'] = extract_response\n",
    "                results.append(data)\n",
    "                # print('data',data)\n",
    "                \n",
    "            except Exception as e:\n",
    "                logger.error(f\"Failed to process text: {data}. Error: {e}\")\n",
    "    \n",
    "    return results"
   ]
  },
  {
   "cell_type": "code",
   "execution_count": 9,
   "metadata": {
    "ExecutionIndicator": {
     "show": true
    },
    "tags": []
   },
   "outputs": [],
   "source": [
    "def main(ifn, ofn):\n",
    "    if os.path.exists(ofn):\n",
    "        pass\n",
    "    data = []\n",
    "    # 按行读取数据\n",
    "    with open(ifn) as reader:\n",
    "        for line in reader:\n",
    "            sample = json.loads(line)\n",
    "            data.append(sample)\n",
    "    datas = data\n",
    "    # print(data)\n",
    "    # 均匀地分成多个数据集\n",
    "    return_list = process_datas(datas,MODEL_NAME)\n",
    "    print(len(return_list))\n",
    "    print(\"All tasks finished!\")\n",
    "    return return_list"
   ]
  },
  {
   "cell_type": "code",
   "execution_count": 10,
   "metadata": {
    "tags": []
   },
   "outputs": [],
   "source": [
    "def evaluate(ofn):\n",
    "    data = []\n",
    "    with open(ofn) as reader:\n",
    "        for line in reader:\n",
    "            sample = json.loads(line)\n",
    "            data.append(sample)\n",
    "\n",
    "    pse = 0\n",
    "    cnt = 0\n",
    "    tot = 0\n",
    "    for task in data:\n",
    "        for question in task['questions']:\n",
    "            \n",
    "            if MODEL_NAME in question:\n",
    "                tot += 1\n",
    "                cnt += question[MODEL_NAME] == question['answer']\n",
    "            else:\n",
    "                pse += 1\n",
    "\n",
    "    print(cnt, tot, cnt/tot, pse)"
   ]
  },
  {
   "cell_type": "code",
   "execution_count": null,
   "metadata": {
    "scrolled": true,
    "tags": []
   },
   "outputs": [
    {
     "name": "stdout",
     "output_type": "stream",
     "text": [
      "C\n"
     ]
    },
    {
     "name": "stderr",
     "output_type": "stream",
     "text": [
      "Submitting tasks:   9%|▉         | 44/500 [01:04<12:26,  1.64s/it]"
     ]
    },
    {
     "name": "stdout",
     "output_type": "stream",
     "text": [
      "Request id: 25e3de54-e8cd-9934-b500-c6eada76fcaa, Status code: 429, error code: Throttling.RateQuota, error message: Requests rate limit exceeded, please try again later.\n",
      "Request id: c0fcc561-2397-9ba8-b3cc-92d6294698ef, Status code: 429, error code: Throttling.RateQuota, error message: Requests rate limit exceeded, please try again later.\n",
      "Request id: 9dddb53b-c66c-9543-9f1d-e5deea6956a1, Status code: 429, error code: Throttling.RateQuota, error message: Requests rate limit exceeded, please try again later.\n"
     ]
    },
    {
     "name": "stderr",
     "output_type": "stream",
     "text": [
      "Submitting tasks:   9%|▉         | 45/500 [01:06<12:47,  1.69s/it]"
     ]
    },
    {
     "name": "stdout",
     "output_type": "stream",
     "text": [
      "Request id: e9b450e2-6121-9ff7-8f46-bad583b3905a, Status code: 429, error code: Throttling.RateQuota, error message: Requests rate limit exceeded, please try again later.\n",
      "Request id: f7e07001-e48a-90b2-b676-542fbb7dcd18, Status code: 429, error code: Throttling.RateQuota, error message: Requests rate limit exceeded, please try again later.\n",
      "Request id: a3f47037-c1db-9985-a641-201519fa4ee8, Status code: 429, error code: Throttling.RateQuota, error message: Requests rate limit exceeded, please try again later.\n",
      "Request id: 272913a2-a21a-96d3-9edf-e1dbcec454e4, Status code: 429, error code: Throttling.RateQuota, error message: Requests rate limit exceeded, please try again later.\n"
     ]
    },
    {
     "name": "stderr",
     "output_type": "stream",
     "text": [
      "Submitting tasks:   9%|▉         | 46/500 [01:08<14:23,  1.90s/it]"
     ]
    },
    {
     "name": "stdout",
     "output_type": "stream",
     "text": [
      "Request id: 259b7442-6900-90dc-89f8-f3bcbda92a39, Status code: 429, error code: Throttling.RateQuota, error message: Requests rate limit exceeded, please try again later.\n",
      "Request id: 4bc6f832-d8c4-92ab-a013-ad6e31e52c22, Status code: 429, error code: Throttling.RateQuota, error message: Requests rate limit exceeded, please try again later.\n"
     ]
    },
    {
     "name": "stderr",
     "output_type": "stream",
     "text": [
      "Submitting tasks:   9%|▉         | 47/500 [01:09<12:46,  1.69s/it]"
     ]
    },
    {
     "name": "stdout",
     "output_type": "stream",
     "text": [
      "Request id: ba575431-c577-92cb-b663-e90955cca3ad, Status code: 429, error code: Throttling.RateQuota, error message: Requests rate limit exceeded, please try again later.\n",
      "Request id: 433fc4fc-8605-9b13-a787-e8c0f6819153, Status code: 429, error code: Throttling.RateQuota, error message: Requests rate limit exceeded, please try again later.\n"
     ]
    },
    {
     "name": "stderr",
     "output_type": "stream",
     "text": [
      "Submitting tasks:  10%|▉         | 48/500 [01:10<11:38,  1.55s/it]"
     ]
    },
    {
     "name": "stdout",
     "output_type": "stream",
     "text": [
      "Request id: 1422067c-4779-91c9-9a77-66616301fa72, Status code: 429, error code: Throttling.RateQuota, error message: Requests rate limit exceeded, please try again later.\n",
      "Request id: c5b6f59d-45d2-90ab-8e61-2a94efd67047, Status code: 429, error code: Throttling.RateQuota, error message: Requests rate limit exceeded, please try again later.\n",
      "Request id: f6717bb5-7911-9b1c-bd9a-136dc38f67f8, Status code: 429, error code: Throttling.RateQuota, error message: Requests rate limit exceeded, please try again later.\n"
     ]
    },
    {
     "name": "stderr",
     "output_type": "stream",
     "text": [
      "Submitting tasks:  10%|▉         | 49/500 [01:12<12:12,  1.62s/it]"
     ]
    },
    {
     "name": "stdout",
     "output_type": "stream",
     "text": [
      "Request id: 0384e516-97ba-94c4-b05e-8a663692781b, Status code: 429, error code: Throttling.RateQuota, error message: Requests rate limit exceeded, please try again later.\n"
     ]
    },
    {
     "name": "stderr",
     "output_type": "stream",
     "text": [
      "Submitting tasks:  10%|█         | 50/500 [01:13<09:53,  1.32s/it]"
     ]
    },
    {
     "name": "stdout",
     "output_type": "stream",
     "text": [
      "Request id: 0f20592f-7da4-9580-952c-b3e044e53f1d, Status code: 429, error code: Throttling.RateQuota, error message: Requests rate limit exceeded, please try again later.\n"
     ]
    },
    {
     "name": "stderr",
     "output_type": "stream",
     "text": [
      "Submitting tasks:  18%|█▊        | 90/500 [02:17<08:51,  1.30s/it]"
     ]
    },
    {
     "name": "stdout",
     "output_type": "stream",
     "text": [
      "Request id: dc692d6c-bb59-9c83-8cda-e6ccddce9fe4, Status code: 429, error code: Throttling.RateQuota, error message: Requests rate limit exceeded, please try again later.\n"
     ]
    },
    {
     "name": "stderr",
     "output_type": "stream",
     "text": [
      "Submitting tasks:  18%|█▊        | 91/500 [02:18<07:24,  1.09s/it]"
     ]
    },
    {
     "name": "stdout",
     "output_type": "stream",
     "text": [
      "Request id: a6406b50-fd84-9b78-8844-405ea295f9b5, Status code: 429, error code: Throttling.RateQuota, error message: Requests rate limit exceeded, please try again later.\n",
      "Request id: 6a89792f-dc00-9de0-82e1-6458444205d1, Status code: 429, error code: Throttling.RateQuota, error message: Requests rate limit exceeded, please try again later.\n"
     ]
    },
    {
     "name": "stderr",
     "output_type": "stream",
     "text": [
      "Submitting tasks:  18%|█▊        | 92/500 [02:18<06:24,  1.06it/s]"
     ]
    },
    {
     "name": "stdout",
     "output_type": "stream",
     "text": [
      "Request id: 52055f4f-7bcd-9b75-af2b-84be67e9cf1c, Status code: 429, error code: Throttling.RateQuota, error message: Requests rate limit exceeded, please try again later.\n"
     ]
    },
    {
     "name": "stderr",
     "output_type": "stream",
     "text": [
      "Submitting tasks:  19%|█▊        | 93/500 [02:19<05:41,  1.19it/s]"
     ]
    },
    {
     "name": "stdout",
     "output_type": "stream",
     "text": [
      "Request id: be7df6db-703a-919f-9b87-2b970bf2a6ca, Status code: 429, error code: Throttling.RateQuota, error message: Requests rate limit exceeded, please try again later.\n",
      "Request id: c236bfba-d418-971d-b77b-e57493f8dedb, Status code: 429, error code: Throttling.RateQuota, error message: Requests rate limit exceeded, please try again later.\n",
      "Request id: c9fe4ffa-eb27-9ac0-bc8d-8e6688d8e3eb, Status code: 429, error code: Throttling.RateQuota, error message: Requests rate limit exceeded, please try again later.\n",
      "Request id: 351cdfb5-30ba-92b2-8b8a-253264718c9c, Status code: 429, error code: Throttling.RateQuota, error message: Requests rate limit exceeded, please try again later.\n",
      "Request id: eb782433-ea8f-915b-9c41-efee3325383b, Status code: 429, error code: Throttling.RateQuota, error message: Requests rate limit exceeded, please try again later.\n",
      "Request id: c2636cdb-edd3-9bb4-8917-8564a2fac48f, Status code: 429, error code: Throttling.RateQuota, error message: Requests rate limit exceeded, please try again later.\n",
      "Request id: 73d77400-5f84-975e-8516-30fb3d6ededd, Status code: 429, error code: Throttling.RateQuota, error message: Requests rate limit exceeded, please try again later.\n",
      "Request id: 2e58dae7-73c1-94ea-b8a6-7fafd43103d1, Status code: 429, error code: Throttling.RateQuota, error message: Requests rate limit exceeded, please try again later.\n",
      "Request id: caf59c5c-efa9-9c50-9372-60523aaa65c4, Status code: 429, error code: Throttling.RateQuota, error message: Requests rate limit exceeded, please try again later.\n",
      "Request id: ea50b62d-3df3-9a60-a3eb-a172d53a3a37, Status code: 429, error code: Throttling.RateQuota, error message: Requests rate limit exceeded, please try again later.\n",
      "Request id: 02c35aad-038b-92db-b233-dec3025ba5fc, Status code: 429, error code: Throttling.RateQuota, error message: Requests rate limit exceeded, please try again later.\n"
     ]
    },
    {
     "name": "stderr",
     "output_type": "stream",
     "text": [
      "Submitting tasks:  19%|█▉        | 94/500 [02:21<08:51,  1.31s/it]"
     ]
    },
    {
     "name": "stdout",
     "output_type": "stream",
     "text": [
      "Request id: eddbc5c1-0002-9c44-b318-de05b576f269, Status code: 429, error code: Throttling.RateQuota, error message: Requests rate limit exceeded, please try again later.\n"
     ]
    },
    {
     "name": "stderr",
     "output_type": "stream",
     "text": [
      "Submitting tasks:  27%|██▋       | 134/500 [03:26<07:50,  1.29s/it]"
     ]
    },
    {
     "name": "stdout",
     "output_type": "stream",
     "text": [
      "Request id: 62b976df-89e7-9a05-963a-124dc71ba8fa, Status code: 500, error code: SystemError, error message: An system error has occurred, please try again later.\n"
     ]
    },
    {
     "name": "stderr",
     "output_type": "stream",
     "text": [
      "Submitting tasks:  28%|██▊       | 142/500 [03:38<08:00,  1.34s/it]"
     ]
    },
    {
     "name": "stdout",
     "output_type": "stream",
     "text": [
      "Request id: 361281b2-390f-9625-b3a1-34c3b145f547, Status code: 429, error code: Throttling.RateQuota, error message: Requests rate limit exceeded, please try again later.\n",
      "Request id: c0470ec4-f739-9d8c-b60f-59be6dee4766, Status code: 429, error code: Throttling.RateQuota, error message: Requests rate limit exceeded, please try again later.\n",
      "Request id: 566e5edc-9294-941c-af7f-76076bbd8582, Status code: 429, error code: Throttling.RateQuota, error message: Requests rate limit exceeded, please try again later.\n",
      "Request id: f9da0709-dadc-95e7-b411-e0fb70230e45, Status code: 429, error code: Throttling.RateQuota, error message: Requests rate limit exceeded, please try again later.\n"
     ]
    },
    {
     "name": "stderr",
     "output_type": "stream",
     "text": [
      "Submitting tasks:  29%|██▊       | 143/500 [03:40<08:48,  1.48s/it]"
     ]
    },
    {
     "name": "stdout",
     "output_type": "stream",
     "text": [
      "Request id: 5f26eddb-3e62-9ba1-85c3-3bfe2db7f0db, Status code: 429, error code: Throttling.RateQuota, error message: Requests rate limit exceeded, please try again later.\n",
      "Request id: 0c12c7a5-a930-9207-a84b-5c631ad54047, Status code: 429, error code: Throttling.RateQuota, error message: Requests rate limit exceeded, please try again later.\n"
     ]
    },
    {
     "name": "stderr",
     "output_type": "stream",
     "text": [
      "Submitting tasks:  29%|██▉       | 144/500 [03:41<08:17,  1.40s/it]"
     ]
    },
    {
     "name": "stdout",
     "output_type": "stream",
     "text": [
      "Request id: 179be6a4-cbb7-9c9b-ab12-823d671c727f, Status code: 429, error code: Throttling.RateQuota, error message: Requests rate limit exceeded, please try again later.\n"
     ]
    },
    {
     "name": "stderr",
     "output_type": "stream",
     "text": [
      "Submitting tasks:  29%|██▉       | 145/500 [03:42<06:51,  1.16s/it]"
     ]
    },
    {
     "name": "stdout",
     "output_type": "stream",
     "text": [
      "Request id: fb6b67bd-0efe-91ad-ae6e-6d62511392a3, Status code: 429, error code: Throttling.RateQuota, error message: Requests rate limit exceeded, please try again later.\n",
      "Request id: 15288036-622a-989f-89b6-3303b5aa51b2, Status code: 429, error code: Throttling.RateQuota, error message: Requests rate limit exceeded, please try again later.\n",
      "Request id: bb66d136-eb52-939f-b533-e2078850b6ee, Status code: 429, error code: Throttling.RateQuota, error message: Requests rate limit exceeded, please try again later.\n",
      "Request id: 409dc427-923a-9bb9-a3b1-8401e79952d0, Status code: 429, error code: Throttling.RateQuota, error message: Requests rate limit exceeded, please try again later.\n",
      "Request id: 907874e2-db45-9f5e-975c-1bb26412b572, Status code: 429, error code: Throttling.RateQuota, error message: Requests rate limit exceeded, please try again later.\n",
      "Request id: 4f75be68-3cd9-9b2a-864f-d9f915d33346, Status code: 429, error code: Throttling.RateQuota, error message: Requests rate limit exceeded, please try again later.\n",
      "Request id: 5e7f46f4-2233-9e16-ad97-7de47deffaa7, Status code: 429, error code: Throttling.RateQuota, error message: Requests rate limit exceeded, please try again later.\n"
     ]
    },
    {
     "name": "stderr",
     "output_type": "stream",
     "text": [
      "Submitting tasks:  29%|██▉       | 146/500 [03:44<09:02,  1.53s/it]"
     ]
    },
    {
     "name": "stdout",
     "output_type": "stream",
     "text": [
      "Request id: 36f50c85-f723-99fa-b25c-ac8218177f38, Status code: 429, error code: Throttling.RateQuota, error message: Requests rate limit exceeded, please try again later.\n"
     ]
    },
    {
     "name": "stderr",
     "output_type": "stream",
     "text": [
      "Submitting tasks:  34%|███▍      | 171/500 [04:25<10:50,  1.98s/it]"
     ]
    },
    {
     "name": "stdout",
     "output_type": "stream",
     "text": [
      "Request id: 54ca4c24-baed-90f2-87b9-3b13dee4e96c, Status code: 429, error code: Throttling.RateQuota, error message: Requests rate limit exceeded, please try again later.\n"
     ]
    },
    {
     "name": "stderr",
     "output_type": "stream",
     "text": [
      "Submitting tasks:  38%|███▊      | 188/500 [04:49<07:19,  1.41s/it]"
     ]
    },
    {
     "name": "stdout",
     "output_type": "stream",
     "text": [
      "Request id: 37e1e297-b084-9653-bd75-b7be481f3e35, Status code: 429, error code: Throttling.RateQuota, error message: Requests rate limit exceeded, please try again later.\n",
      "Request id: 2e3fa1de-81c6-997f-a7b8-c54e1216078f, Status code: 429, error code: Throttling.RateQuota, error message: Requests rate limit exceeded, please try again later.\n",
      "Request id: 4544321e-3b4d-9436-89c1-2712981871d6, Status code: 429, error code: Throttling.RateQuota, error message: Requests rate limit exceeded, please try again later.\n"
     ]
    },
    {
     "name": "stderr",
     "output_type": "stream",
     "text": [
      "Submitting tasks:  38%|███▊      | 189/500 [04:52<08:51,  1.71s/it]"
     ]
    },
    {
     "name": "stdout",
     "output_type": "stream",
     "text": [
      "Request id: 65b0bbff-a810-9c74-9416-f24fbb40159b, Status code: 429, error code: Throttling.RateQuota, error message: Requests rate limit exceeded, please try again later.\n",
      "Request id: 19bdbb5a-5b57-9200-b11d-001c1feb921a, Status code: 429, error code: Throttling.RateQuota, error message: Requests rate limit exceeded, please try again later.\n",
      "Request id: 63a69d06-8091-9275-a61a-3ef66a59bc80, Status code: 429, error code: Throttling.RateQuota, error message: Requests rate limit exceeded, please try again later.\n",
      "Request id: 574d713f-614b-913d-bfd9-cb81720e2481, Status code: 429, error code: Throttling.RateQuota, error message: Requests rate limit exceeded, please try again later.\n",
      "Request id: 23a96f72-7ad6-9cb1-a017-3a74aff6872a, Status code: 429, error code: Throttling.RateQuota, error message: Requests rate limit exceeded, please try again later.\n",
      "Request id: dc68c54c-e53f-9f29-b0bb-5b8b2af17559, Status code: 429, error code: Throttling.RateQuota, error message: Requests rate limit exceeded, please try again later.\n",
      "Request id: a44cdb5a-c17b-9143-a656-3dea35350554, Status code: 429, error code: Throttling.RateQuota, error message: Requests rate limit exceeded, please try again later.\n",
      "Request id: 2f1ab5fa-b8e5-91d1-8bc7-11ae9ad330dc, Status code: 429, error code: Throttling.RateQuota, error message: Requests rate limit exceeded, please try again later.\n",
      "Request id: 60df1613-4953-9594-a740-1ff7758ceb1b, Status code: 429, error code: Throttling.RateQuota, error message: Requests rate limit exceeded, please try again later.\n"
     ]
    },
    {
     "name": "stderr",
     "output_type": "stream",
     "text": [
      "Submitting tasks:  38%|███▊      | 190/500 [04:54<09:54,  1.92s/it]"
     ]
    },
    {
     "name": "stdout",
     "output_type": "stream",
     "text": [
      "Request id: 01862466-d237-912b-805b-003eb2403472, Status code: 429, error code: Throttling.RateQuota, error message: Requests rate limit exceeded, please try again later.\n",
      "Request id: e31c31ba-823f-9a48-84dd-2737145b3207, Status code: 429, error code: Throttling.RateQuota, error message: Requests rate limit exceeded, please try again later.\n",
      "Request id: 6c0d2e41-4ad9-92b3-814b-edbd4e6582d3, Status code: 429, error code: Throttling.RateQuota, error message: Requests rate limit exceeded, please try again later.\n"
     ]
    },
    {
     "name": "stderr",
     "output_type": "stream",
     "text": [
      "Submitting tasks:  42%|████▏     | 208/500 [05:25<09:12,  1.89s/it]"
     ]
    },
    {
     "name": "stdout",
     "output_type": "stream",
     "text": [
      "Request id: 8c701d43-a787-964b-b5be-69803b776426, Status code: 429, error code: Throttling.RateQuota, error message: Requests rate limit exceeded, please try again later.\n"
     ]
    },
    {
     "name": "stderr",
     "output_type": "stream",
     "text": [
      "Submitting tasks:  46%|████▌     | 228/500 [06:01<08:27,  1.87s/it]"
     ]
    },
    {
     "name": "stdout",
     "output_type": "stream",
     "text": [
      "Request id: e68e0a0c-559d-91e0-832b-de8a93c3bde7, Status code: 429, error code: Throttling.RateQuota, error message: Requests rate limit exceeded, please try again later.\n",
      "Request id: 9ea15686-9652-9b45-95e5-2b2e66d1fca3, Status code: 429, error code: Throttling.RateQuota, error message: Requests rate limit exceeded, please try again later.\n",
      "Request id: 86de6382-c5af-98d1-b5aa-0b358bdd1e8a, Status code: 429, error code: Throttling.RateQuota, error message: Requests rate limit exceeded, please try again later.\n",
      "Request id: 33a620a8-6c64-9f20-9038-f1d52af04245, Status code: 429, error code: Throttling.RateQuota, error message: Requests rate limit exceeded, please try again later.\n"
     ]
    },
    {
     "name": "stderr",
     "output_type": "stream",
     "text": [
      "Submitting tasks:  46%|████▌     | 229/500 [06:03<09:09,  2.03s/it]"
     ]
    },
    {
     "name": "stdout",
     "output_type": "stream",
     "text": [
      "Request id: fcac2de9-1004-9fa5-95e3-23da8b037435, Status code: 429, error code: Throttling.RateQuota, error message: Requests rate limit exceeded, please try again later.\n"
     ]
    },
    {
     "name": "stderr",
     "output_type": "stream",
     "text": [
      "Submitting tasks:  46%|████▌     | 230/500 [06:04<07:11,  1.60s/it]"
     ]
    },
    {
     "name": "stdout",
     "output_type": "stream",
     "text": [
      "Request id: 87326b01-8d3c-92b0-a4c6-ac236bc323f9, Status code: 429, error code: Throttling.RateQuota, error message: Requests rate limit exceeded, please try again later.\n",
      "Request id: 4091660a-83e5-974c-b8d3-5a7f2724390d, Status code: 429, error code: Throttling.RateQuota, error message: Requests rate limit exceeded, please try again later.\n",
      "Request id: d29c52c2-c935-90a1-b3e7-1d5d974920b3, Status code: 429, error code: Throttling.RateQuota, error message: Requests rate limit exceeded, please try again later.\n",
      "Request id: cd77bb80-37a6-95ba-bbe0-4af3904a748d, Status code: 429, error code: Throttling.RateQuota, error message: Requests rate limit exceeded, please try again later.\n",
      "Request id: fcedbdb8-9dcb-9b9b-80ce-118aa844ef65, Status code: 429, error code: Throttling.RateQuota, error message: Requests rate limit exceeded, please try again later.\n",
      "Request id: 72aac5e3-f294-9956-8be6-8607d2d85b0c, Status code: 429, error code: Throttling.RateQuota, error message: Requests rate limit exceeded, please try again later.\n"
     ]
    },
    {
     "name": "stderr",
     "output_type": "stream",
     "text": [
      "Submitting tasks:  46%|████▌     | 231/500 [06:05<06:38,  1.48s/it]"
     ]
    },
    {
     "name": "stdout",
     "output_type": "stream",
     "text": [
      "Request id: 86fdf8e6-5f26-9385-8e83-8aeaef97fa7b, Status code: 429, error code: Throttling.RateQuota, error message: Requests rate limit exceeded, please try again later.\n",
      "Request id: fde5a459-ccf3-9fa4-a754-fa415d1e5060, Status code: 429, error code: Throttling.RateQuota, error message: Requests rate limit exceeded, please try again later.\n",
      "Request id: c36ca487-9eb7-90c7-9548-8cc567b31e15, Status code: 429, error code: Throttling.RateQuota, error message: Requests rate limit exceeded, please try again later.\n"
     ]
    },
    {
     "name": "stderr",
     "output_type": "stream",
     "text": [
      "Submitting tasks:  46%|████▋     | 232/500 [06:07<07:50,  1.76s/it]"
     ]
    },
    {
     "name": "stdout",
     "output_type": "stream",
     "text": [
      "Request id: f5d0ed25-c97d-90e2-b1aa-784ebb37c2fc, Status code: 429, error code: Throttling.RateQuota, error message: Requests rate limit exceeded, please try again later.\n"
     ]
    },
    {
     "name": "stderr",
     "output_type": "stream",
     "text": [
      "Submitting tasks:  49%|████▉     | 244/500 [06:26<06:28,  1.52s/it]"
     ]
    },
    {
     "name": "stdout",
     "output_type": "stream",
     "text": [
      "Request id: efa8791f-90c9-9b7d-aacc-a460553ae9a4, Status code: 429, error code: Throttling.RateQuota, error message: Requests rate limit exceeded, please try again later.\n"
     ]
    },
    {
     "name": "stderr",
     "output_type": "stream",
     "text": [
      "Submitting tasks:  54%|█████▍    | 272/500 [07:14<06:46,  1.78s/it]"
     ]
    },
    {
     "name": "stdout",
     "output_type": "stream",
     "text": [
      "Request id: c5ad150c-6d36-97fa-9d65-e38a465d531f, Status code: 429, error code: Throttling.RateQuota, error message: Requests rate limit exceeded, please try again later.\n",
      "Request id: 43a209cc-e273-9b9a-9f4e-a913308b0896, Status code: 429, error code: Throttling.RateQuota, error message: Requests rate limit exceeded, please try again later.\n",
      "Request id: c668e9c4-d785-9eaa-b7e3-daac5886b0b5, Status code: 429, error code: Throttling.RateQuota, error message: Requests rate limit exceeded, please try again later.\n",
      "Request id: 96d77f31-59aa-9a6d-a1be-7e1df55cf04c, Status code: 429, error code: Throttling.RateQuota, error message: Requests rate limit exceeded, please try again later.\n",
      "Request id: 76d96b4a-f3b2-94f2-80e3-e9c03261d9e4, Status code: 429, error code: Throttling.RateQuota, error message: Requests rate limit exceeded, please try again later.\n",
      "Request id: 8d6705c9-bbd9-98a0-a0d0-1b93fa23c3d6, Status code: 429, error code: Throttling.RateQuota, error message: Requests rate limit exceeded, please try again later.\n",
      "Request id: df57872a-8d4f-9f07-bf25-df2cf5fdcb71, Status code: 429, error code: Throttling.RateQuota, error message: Requests rate limit exceeded, please try again later.\n",
      "Request id: f1225f8d-46c5-97cd-bbfe-802a7892329a, Status code: 429, error code: Throttling.RateQuota, error message: Requests rate limit exceeded, please try again later.\n",
      "Request id: 0e7a0d11-60ed-927b-a22a-f20635fdc8ae, Status code: 429, error code: Throttling.RateQuota, error message: Requests rate limit exceeded, please try again later.\n",
      "Request id: 5ad2c40f-e4d2-9f6f-a0fe-ead02e88c561, Status code: 429, error code: Throttling.RateQuota, error message: Requests rate limit exceeded, please try again later.\n"
     ]
    },
    {
     "name": "stderr",
     "output_type": "stream",
     "text": [
      "Submitting tasks:  55%|█████▍    | 273/500 [07:17<07:27,  1.97s/it]"
     ]
    },
    {
     "name": "stdout",
     "output_type": "stream",
     "text": [
      "Request id: 46aa3320-0175-950d-9537-34fec56961af, Status code: 429, error code: Throttling.RateQuota, error message: Requests rate limit exceeded, please try again later.\n"
     ]
    },
    {
     "name": "stderr",
     "output_type": "stream",
     "text": [
      "Submitting tasks:  55%|█████▍    | 274/500 [07:18<07:13,  1.92s/it]"
     ]
    },
    {
     "name": "stdout",
     "output_type": "stream",
     "text": [
      "Request id: 1bf0e863-c2b3-9262-99d1-fc38412180e4, Status code: 429, error code: Throttling.RateQuota, error message: Requests rate limit exceeded, please try again later.\n",
      "Request id: d2785e37-1358-92f2-8752-653f2a2eff1c, Status code: 429, error code: Throttling.RateQuota, error message: Requests rate limit exceeded, please try again later.\n"
     ]
    },
    {
     "name": "stderr",
     "output_type": "stream",
     "text": [
      "Submitting tasks:  55%|█████▌    | 275/500 [07:19<05:43,  1.52s/it]"
     ]
    },
    {
     "name": "stdout",
     "output_type": "stream",
     "text": [
      "Request id: b359401b-3058-9275-868c-a4d41d9e6ea4, Status code: 429, error code: Throttling.RateQuota, error message: Requests rate limit exceeded, please try again later.\n",
      "Request id: a27c19e6-3484-9d16-afea-13ab4cd2178a, Status code: 429, error code: Throttling.RateQuota, error message: Requests rate limit exceeded, please try again later.\n"
     ]
    },
    {
     "name": "stderr",
     "output_type": "stream",
     "text": [
      "Submitting tasks:  56%|█████▌    | 279/500 [07:25<04:41,  1.27s/it]"
     ]
    },
    {
     "name": "stdout",
     "output_type": "stream",
     "text": [
      "Request id: e2a6b940-eae4-95a4-8d30-021f1bf5e728, Status code: 429, error code: Throttling.RateQuota, error message: Requests rate limit exceeded, please try again later.\n",
      "Request id: bbc7a57c-ee1c-93b5-8cb6-c6f1875c53aa, Status code: 429, error code: Throttling.RateQuota, error message: Requests rate limit exceeded, please try again later.\n"
     ]
    },
    {
     "name": "stderr",
     "output_type": "stream",
     "text": [
      "Submitting tasks:  64%|██████▎   | 318/500 [08:25<04:52,  1.61s/it]"
     ]
    },
    {
     "name": "stdout",
     "output_type": "stream",
     "text": [
      "Request id: f19da96a-bacf-9a41-bd2b-68a79ecc2754, Status code: 429, error code: Throttling.RateQuota, error message: Requests rate limit exceeded, please try again later.\n",
      "Request id: f45a4427-6cb5-9b62-9c3d-257db138c09d, Status code: 429, error code: Throttling.RateQuota, error message: Requests rate limit exceeded, please try again later.\n",
      "Request id: 212dd441-4723-9a26-84d5-769ad1357f59, Status code: 429, error code: Throttling.RateQuota, error message: Requests rate limit exceeded, please try again later.\n",
      "Request id: 0371c60f-b713-9e5e-855a-4e14c34be7f2, Status code: 429, error code: Throttling.RateQuota, error message: Requests rate limit exceeded, please try again later.\n"
     ]
    },
    {
     "name": "stderr",
     "output_type": "stream",
     "text": [
      "Submitting tasks:  64%|██████▍   | 319/500 [08:27<05:01,  1.67s/it]"
     ]
    },
    {
     "name": "stdout",
     "output_type": "stream",
     "text": [
      "Request id: 1294aca3-a22a-91b2-b817-3a0d1129fa99, Status code: 429, error code: Throttling.RateQuota, error message: Requests rate limit exceeded, please try again later.\n",
      "Request id: 661166b4-6ba4-93ef-b59e-55a93fbe2762, Status code: 429, error code: Throttling.RateQuota, error message: Requests rate limit exceeded, please try again later.\n",
      "Request id: 61d821a8-1ded-9590-a278-aae147efdc7f, Status code: 429, error code: Throttling.RateQuota, error message: Requests rate limit exceeded, please try again later.\n",
      "Request id: a937d9a4-0c24-9250-8050-e2140c1fb201, Status code: 429, error code: Throttling.RateQuota, error message: Requests rate limit exceeded, please try again later.\n",
      "Request id: 37d77475-b41d-9c66-8d89-b0b34b450b7e, Status code: 429, error code: Throttling.RateQuota, error message: Requests rate limit exceeded, please try again later.\n",
      "Request id: dc60d0c3-b408-9b6f-96ff-1cb993cc132e, Status code: 429, error code: Throttling.RateQuota, error message: Requests rate limit exceeded, please try again later.\n"
     ]
    },
    {
     "name": "stderr",
     "output_type": "stream",
     "text": [
      "Submitting tasks:  68%|██████▊   | 339/500 [09:00<03:54,  1.45s/it]"
     ]
    },
    {
     "name": "stdout",
     "output_type": "stream",
     "text": [
      "Request id: 63e10e60-6705-9d9e-bfe5-b97eb45d075d, Status code: 429, error code: Throttling.RateQuota, error message: Requests rate limit exceeded, please try again later.\n",
      "Request id: c7e9f61f-6021-93ec-af60-1b7ce9188bfa, Status code: 429, error code: Throttling.RateQuota, error message: Requests rate limit exceeded, please try again later.\n",
      "Request id: ab68c339-181c-919d-b95f-bef89f5e2983, Status code: 429, error code: Throttling.RateQuota, error message: Requests rate limit exceeded, please try again later.\n"
     ]
    },
    {
     "name": "stderr",
     "output_type": "stream",
     "text": [
      "Submitting tasks:  68%|██████▊   | 341/500 [09:03<03:42,  1.40s/it]"
     ]
    },
    {
     "name": "stdout",
     "output_type": "stream",
     "text": [
      "Request id: b968ba41-699c-9cb0-b524-b585fb1901fb, Status code: 429, error code: Throttling.RateQuota, error message: Requests rate limit exceeded, please try again later.\n"
     ]
    },
    {
     "name": "stderr",
     "output_type": "stream",
     "text": [
      "Submitting tasks:  68%|██████▊   | 342/500 [09:04<03:31,  1.34s/it]"
     ]
    },
    {
     "name": "stdout",
     "output_type": "stream",
     "text": [
      "Request id: 88cabcb2-2b15-97fe-ad71-9279c6fb11d7, Status code: 429, error code: Throttling.RateQuota, error message: Requests rate limit exceeded, please try again later.\n"
     ]
    },
    {
     "name": "stderr",
     "output_type": "stream",
     "text": [
      "Submitting tasks:  71%|███████   | 356/500 [09:26<03:44,  1.56s/it]"
     ]
    },
    {
     "name": "stdout",
     "output_type": "stream",
     "text": [
      "Request id: c8b4577d-f9cc-9266-ad84-6383e7d5a371, Status code: 429, error code: Throttling.RateQuota, error message: Requests rate limit exceeded, please try again later.\n",
      "Request id: 94d9e42e-083e-99e4-a510-88ead791a526, Status code: 429, error code: Throttling.RateQuota, error message: Requests rate limit exceeded, please try again later.\n",
      "Request id: 890bb6ac-8d27-9bb8-892c-690ed471f9af, Status code: 429, error code: Throttling.RateQuota, error message: Requests rate limit exceeded, please try again later.\n",
      "Request id: 9aacacd7-6f0e-9334-a6b0-0cfde6b44047, Status code: 429, error code: Throttling.RateQuota, error message: Requests rate limit exceeded, please try again later.\n",
      "Request id: 3f25e449-c3f9-9a3f-ac8f-258e5701c8d4, Status code: 429, error code: Throttling.RateQuota, error message: Requests rate limit exceeded, please try again later.\n",
      "Request id: 2863c46b-63ca-9f9a-9139-2d2087fb3de9, Status code: 429, error code: Throttling.RateQuota, error message: Requests rate limit exceeded, please try again later.\n",
      "Request id: 860f6563-c1fd-9f32-837a-770f1750bd1b, Status code: 429, error code: Throttling.RateQuota, error message: Requests rate limit exceeded, please try again later.\n",
      "Request id: 506ce48d-4b16-93e0-a365-dbb7935e0c60, Status code: 429, error code: Throttling.RateQuota, error message: Requests rate limit exceeded, please try again later.\n",
      "Request id: 2b66703f-d2f8-93ab-9f74-3d850b9cac91, Status code: 429, error code: Throttling.RateQuota, error message: Requests rate limit exceeded, please try again later.\n",
      "Request id: 748f4e13-e6a5-9c82-9cfe-d5628a087c32, Status code: 429, error code: Throttling.RateQuota, error message: Requests rate limit exceeded, please try again later.\n"
     ]
    },
    {
     "name": "stderr",
     "output_type": "stream",
     "text": [
      "Submitting tasks:  80%|████████  | 400/500 [10:38<02:26,  1.46s/it]"
     ]
    },
    {
     "name": "stdout",
     "output_type": "stream",
     "text": [
      "Request id: 08c7e0ef-de92-939e-9525-e0d461ceb19a, Status code: 429, error code: Throttling.RateQuota, error message: Requests rate limit exceeded, please try again later.\n",
      "Request id: 242d8bbb-fbc8-9324-b016-5ef3b64144d3, Status code: 429, error code: Throttling.RateQuota, error message: Requests rate limit exceeded, please try again later.\n",
      "Request id: 6d8fe7db-0e7d-97ee-8930-0defd5cdcca8, Status code: 429, error code: Throttling.RateQuota, error message: Requests rate limit exceeded, please try again later.\n",
      "Request id: e9c1f345-f1b3-956e-8411-50e3625ce7a7, Status code: 429, error code: Throttling.RateQuota, error message: Requests rate limit exceeded, please try again later.\n",
      "Request id: 93ce400d-8d0b-90da-b6ce-b9072117aecc, Status code: 429, error code: Throttling.RateQuota, error message: Requests rate limit exceeded, please try again later.\n",
      "Request id: 7a27a293-e835-9fcc-99d8-a7f4aa96fc35, Status code: 429, error code: Throttling.RateQuota, error message: Requests rate limit exceeded, please try again later.\n",
      "Request id: dd4c59da-c2fa-9f24-9fe4-b90eb5169a94, Status code: 429, error code: Throttling.RateQuota, error message: Requests rate limit exceeded, please try again later.\n",
      "Request id: 5fa56a4e-db4b-940c-a467-d493055cb945, Status code: 429, error code: Throttling.RateQuota, error message: Requests rate limit exceeded, please try again later.\n",
      "Request id: 7af3588c-7468-916e-b0cb-cb458d092bb3, Status code: 429, error code: Throttling.RateQuota, error message: Requests rate limit exceeded, please try again later.\n",
      "Request id: 35360cf5-9be6-991b-a03b-424bcbe040ab, Status code: 429, error code: Throttling.RateQuota, error message: Requests rate limit exceeded, please try again later.\n"
     ]
    },
    {
     "name": "stderr",
     "output_type": "stream",
     "text": [
      "Submitting tasks:  80%|████████  | 401/500 [10:40<02:35,  1.57s/it]"
     ]
    },
    {
     "name": "stdout",
     "output_type": "stream",
     "text": [
      "Request id: d188c9f6-5675-94ee-a309-6fc74a378c1e, Status code: 429, error code: Throttling.RateQuota, error message: Requests rate limit exceeded, please try again later.\n"
     ]
    },
    {
     "name": "stderr",
     "output_type": "stream",
     "text": [
      "Submitting tasks:  80%|████████  | 402/500 [10:40<02:05,  1.28s/it]"
     ]
    },
    {
     "name": "stdout",
     "output_type": "stream",
     "text": [
      "Request id: 2258753e-f3c5-98d6-97f6-ee8135e2a8b5, Status code: 429, error code: Throttling.RateQuota, error message: Requests rate limit exceeded, please try again later.\n",
      "Request id: dbae8626-6527-942e-8aad-d08c7831ff99, Status code: 429, error code: Throttling.RateQuota, error message: Requests rate limit exceeded, please try again later.\n",
      "Request id: 55ea1dbc-c051-96f2-b88b-4e120dbfcebd, Status code: 429, error code: Throttling.RateQuota, error message: Requests rate limit exceeded, please try again later.\n",
      "Request id: 40d90b2e-d905-99da-9bec-78065c9c84f7, Status code: 429, error code: Throttling.RateQuota, error message: Requests rate limit exceeded, please try again later.\n"
     ]
    },
    {
     "name": "stderr",
     "output_type": "stream",
     "text": [
      "Submitting tasks:  81%|████████  | 403/500 [10:42<02:01,  1.25s/it]"
     ]
    },
    {
     "name": "stdout",
     "output_type": "stream",
     "text": [
      "Request id: c5970d53-8834-90de-a014-4189f32433ad, Status code: 429, error code: Throttling.RateQuota, error message: Requests rate limit exceeded, please try again later.\n"
     ]
    },
    {
     "name": "stderr",
     "output_type": "stream",
     "text": [
      "Submitting tasks:  89%|████████▉ | 444/500 [11:47<01:41,  1.81s/it]"
     ]
    },
    {
     "name": "stdout",
     "output_type": "stream",
     "text": [
      "Request id: 85eccce8-7518-961d-a5a5-5a73d62f70b3, Status code: 429, error code: Throttling.RateQuota, error message: Requests rate limit exceeded, please try again later.\n",
      "Request id: 6312906d-6258-98bd-a83a-2037ac4016e9, Status code: 429, error code: Throttling.RateQuota, error message: Requests rate limit exceeded, please try again later.\n",
      "Request id: 0c469454-11d9-93e9-9713-9b976d6ad1e3, Status code: 429, error code: Throttling.RateQuota, error message: Requests rate limit exceeded, please try again later.\n",
      "Request id: ee9d4464-61fc-98fc-bd3c-122581acb982, Status code: 429, error code: Throttling.RateQuota, error message: Requests rate limit exceeded, please try again later.\n",
      "Request id: fdce22a1-d285-9016-8b35-009998e8247d, Status code: 429, error code: Throttling.RateQuota, error message: Requests rate limit exceeded, please try again later.\n",
      "Request id: dd26d437-f393-9ad6-98eb-96bc0f3f184f, Status code: 429, error code: Throttling.RateQuota, error message: Requests rate limit exceeded, please try again later.\n",
      "Request id: 0f6b1ec9-afe2-9c0c-bd6d-c46d1bceaed0, Status code: 429, error code: Throttling.RateQuota, error message: Requests rate limit exceeded, please try again later.\n",
      "Request id: 2730c58b-d9b8-9da9-8faf-d207c7975b2f, Status code: 429, error code: Throttling.RateQuota, error message: Requests rate limit exceeded, please try again later.\n",
      "Request id: 9af14834-6958-9f13-ac59-8516be43dd6e, Status code: 429, error code: Throttling.RateQuota, error message: Requests rate limit exceeded, please try again later.\n"
     ]
    },
    {
     "name": "stderr",
     "output_type": "stream",
     "text": [
      "Submitting tasks:  89%|████████▉ | 445/500 [11:49<01:49,  1.98s/it]"
     ]
    },
    {
     "name": "stdout",
     "output_type": "stream",
     "text": [
      "Request id: da5e0acc-f408-9002-b6f4-d35f30376f0b, Status code: 429, error code: Throttling.RateQuota, error message: Requests rate limit exceeded, please try again later.\n",
      "Request id: 03b48de3-f669-911b-9ff3-f875715ea1fb, Status code: 429, error code: Throttling.RateQuota, error message: Requests rate limit exceeded, please try again later.\n",
      "Request id: 7122f784-be88-9556-940a-19f2675ecbc3, Status code: 429, error code: Throttling.RateQuota, error message: Requests rate limit exceeded, please try again later.\n",
      "Request id: fc6ea18c-5f80-9189-af47-63435992c2d0, Status code: 429, error code: Throttling.RateQuota, error message: Requests rate limit exceeded, please try again later.\n",
      "Request id: cc0e33c2-d267-967f-83b7-f9592095afd2, Status code: 429, error code: Throttling.RateQuota, error message: Requests rate limit exceeded, please try again later.\n",
      "Request id: a3cd45ba-eeb0-9aa8-b89f-944bfa2bc643, Status code: 429, error code: Throttling.RateQuota, error message: Requests rate limit exceeded, please try again later.\n"
     ]
    },
    {
     "name": "stderr",
     "output_type": "stream",
     "text": [
      "Submitting tasks:  89%|████████▉ | 446/500 [11:51<01:44,  1.93s/it]"
     ]
    },
    {
     "name": "stdout",
     "output_type": "stream",
     "text": [
      "Request id: 93833fbe-b5ae-9296-bd5e-00e9f905d973, Status code: 429, error code: Throttling.RateQuota, error message: Requests rate limit exceeded, please try again later.\n"
     ]
    },
    {
     "name": "stderr",
     "output_type": "stream",
     "text": [
      "Submitting tasks:  97%|█████████▋| 487/500 [12:57<00:28,  2.16s/it]"
     ]
    },
    {
     "name": "stdout",
     "output_type": "stream",
     "text": [
      "Request id: bbbcb42f-c7a6-9414-af4a-dcdc83e0bf63, Status code: 429, error code: Throttling.RateQuota, error message: Requests rate limit exceeded, please try again later.\n",
      "Request id: 22c9b587-2ddd-985e-901f-5ff8ce0ebf75, Status code: 429, error code: Throttling.RateQuota, error message: Requests rate limit exceeded, please try again later.\n",
      "Request id: bcf1d352-1ac3-9d5d-926c-3c1ca6295530, Status code: 429, error code: Throttling.RateQuota, error message: Requests rate limit exceeded, please try again later.\n",
      "Request id: 2cb135fa-1802-9585-9a96-d3f332f24487, Status code: 429, error code: Throttling.RateQuota, error message: Requests rate limit exceeded, please try again later.\n",
      "Request id: 79babe59-1ed8-96c3-b98e-394d6f40bd4a, Status code: 429, error code: Throttling.RateQuota, error message: Requests rate limit exceeded, please try again later.\n"
     ]
    },
    {
     "name": "stderr",
     "output_type": "stream",
     "text": [
      "Submitting tasks:  98%|█████████▊| 488/500 [12:59<00:22,  1.88s/it]"
     ]
    },
    {
     "name": "stdout",
     "output_type": "stream",
     "text": [
      "Request id: 45eb8ae5-ef49-9c1a-8c9c-3dbfb4703106, Status code: 429, error code: Throttling.RateQuota, error message: Requests rate limit exceeded, please try again later.\n",
      "Request id: 2532b9c6-c5b9-973b-a327-c8d2ac41dd07, Status code: 429, error code: Throttling.RateQuota, error message: Requests rate limit exceeded, please try again later.\n",
      "Request id: e22b6438-8871-9405-b24d-a9aa0e0f991d, Status code: 429, error code: Throttling.RateQuota, error message: Requests rate limit exceeded, please try again later.\n"
     ]
    },
    {
     "name": "stderr",
     "output_type": "stream",
     "text": [
      "Submitting tasks:  98%|█████████▊| 489/500 [13:00<00:18,  1.67s/it]"
     ]
    },
    {
     "name": "stdout",
     "output_type": "stream",
     "text": [
      "Request id: 5bbbaee7-3d6b-9690-910e-dfd332b08b0f, Status code: 429, error code: Throttling.RateQuota, error message: Requests rate limit exceeded, please try again later.\n",
      "Request id: 2450b660-a1b2-9d9e-85c4-0fa1278db21e, Status code: 429, error code: Throttling.RateQuota, error message: Requests rate limit exceeded, please try again later.\n",
      "Request id: 5bafe14d-a61b-94f9-bd23-e5714abc06ac, Status code: 429, error code: Throttling.RateQuota, error message: Requests rate limit exceeded, please try again later.\n",
      "Request id: 422bbb5b-8c5b-908b-8ab7-36143934dea5, Status code: 429, error code: Throttling.RateQuota, error message: Requests rate limit exceeded, please try again later.\n",
      "Request id: 4aaec830-bc1a-9320-8454-893ca7be138d, Status code: 429, error code: Throttling.RateQuota, error message: Requests rate limit exceeded, please try again later.\n",
      "Request id: 7a6133e9-4606-9dd5-92bb-70101c73cb04, Status code: 429, error code: Throttling.RateQuota, error message: Requests rate limit exceeded, please try again later.\n",
      "Request id: 91d16d42-edb4-9fbf-9906-8672f8b20353, Status code: 429, error code: Throttling.RateQuota, error message: Requests rate limit exceeded, please try again later.\n"
     ]
    },
    {
     "name": "stderr",
     "output_type": "stream",
     "text": [
      "Submitting tasks:  98%|█████████▊| 490/500 [13:02<00:18,  1.89s/it]"
     ]
    },
    {
     "name": "stdout",
     "output_type": "stream",
     "text": [
      "Request id: 792633ab-f7c0-9d93-8774-afdfb35eb5b6, Status code: 429, error code: Throttling.RateQuota, error message: Requests rate limit exceeded, please try again later.\n"
     ]
    },
    {
     "name": "stderr",
     "output_type": "stream",
     "text": [
      "Submitting tasks: 100%|██████████| 500/500 [13:18<00:00,  1.60s/it]\n",
      "Processing tasks:  65%|██████▌   | 868/1328 [00:53<00:57,  8.03it/s]"
     ]
    },
    {
     "name": "stdout",
     "output_type": "stream",
     "text": [
      "Request id: 5eb0be90-1cf0-963f-acbf-4a039830c906, Status code: 429, error code: Throttling.RateQuota, error message: Requests rate limit exceeded, please try again later.\n",
      "Request id: cbd42070-39eb-9a55-8ac3-f4e781928a46, Status code: 429, error code: Throttling.RateQuota, error message: Requests rate limit exceeded, please try again later.\n",
      "Request id: 9ce29dcb-0eaf-9d96-b332-8b9e0532e700, Status code: 429, error code: Throttling.RateQuota, error message: Requests rate limit exceeded, please try again later.\n"
     ]
    },
    {
     "name": "stderr",
     "output_type": "stream",
     "text": [
      "Processing tasks:  66%|██████▌   | 870/1328 [00:54<02:10,  3.52it/s]"
     ]
    },
    {
     "name": "stdout",
     "output_type": "stream",
     "text": [
      "Request id: 30f952bf-6de1-95af-8095-2bb509f322d8, Status code: 429, error code: Throttling.RateQuota, error message: Requests rate limit exceeded, please try again later.\n",
      "Request id: 32e842f0-f8e8-9593-a3d7-cf4c68e0bb06, Status code: 429, error code: Throttling.RateQuota, error message: Requests rate limit exceeded, please try again later.\n"
     ]
    },
    {
     "name": "stderr",
     "output_type": "stream",
     "text": [
      "Processing tasks:  66%|██████▌   | 871/1328 [00:54<01:55,  3.97it/s]"
     ]
    },
    {
     "name": "stdout",
     "output_type": "stream",
     "text": [
      "Request id: 6a3182d9-0536-9796-89cb-a0b9b94aba09, Status code: 429, error code: Throttling.RateQuota, error message: Requests rate limit exceeded, please try again later.\n",
      "Request id: 95d5b95f-bf44-931c-82e5-5d7f87798807, Status code: 429, error code: Throttling.RateQuota, error message: Requests rate limit exceeded, please try again later.\n"
     ]
    },
    {
     "name": "stderr",
     "output_type": "stream",
     "text": [
      "Processing tasks:  66%|██████▌   | 873/1328 [00:55<02:04,  3.65it/s]"
     ]
    },
    {
     "name": "stdout",
     "output_type": "stream",
     "text": [
      "Request id: bd35d786-5b2e-9f60-8f73-0866353d4405, Status code: 429, error code: Throttling.RateQuota, error message: Requests rate limit exceeded, please try again later.\n",
      "Request id: 66c956e4-7622-9704-9d19-a7f0d003827f, Status code: 429, error code: Throttling.RateQuota, error message: Requests rate limit exceeded, please try again later.\n"
     ]
    },
    {
     "name": "stderr",
     "output_type": "stream",
     "text": [
      "Processing tasks:  66%|██████▌   | 875/1328 [00:55<02:21,  3.21it/s]"
     ]
    },
    {
     "name": "stdout",
     "output_type": "stream",
     "text": [
      "Request id: ee46ea4a-cb4b-9b5e-9431-6e0fbe8f88cb, Status code: 429, error code: Throttling.RateQuota, error message: Requests rate limit exceeded, please try again later.\n",
      "Request id: 6ad8faca-61da-9ace-987f-ff108e347ead, Status code: 429, error code: Throttling.RateQuota, error message: Requests rate limit exceeded, please try again later.\n"
     ]
    },
    {
     "name": "stderr",
     "output_type": "stream",
     "text": [
      "Processing tasks:  66%|██████▌   | 878/1328 [00:56<01:59,  3.76it/s]"
     ]
    },
    {
     "name": "stdout",
     "output_type": "stream",
     "text": [
      "Request id: 754cce27-b3a9-94c3-99f8-b58390c395a1, Status code: 429, error code: Throttling.RateQuota, error message: Requests rate limit exceeded, please try again later.\n",
      "Request id: 2a2d7b63-07ea-98c5-9b57-091d07a49ea8, Status code: 429, error code: Throttling.RateQuota, error message: Requests rate limit exceeded, please try again later.\n"
     ]
    },
    {
     "name": "stderr",
     "output_type": "stream",
     "text": [
      "Processing tasks:  66%|██████▌   | 879/1328 [00:57<02:23,  3.12it/s]"
     ]
    },
    {
     "name": "stdout",
     "output_type": "stream",
     "text": [
      "Request id: 6f58173d-b3ad-98ac-a418-1fa9a036547b, Status code: 429, error code: Throttling.RateQuota, error message: Requests rate limit exceeded, please try again later.\n"
     ]
    },
    {
     "name": "stderr",
     "output_type": "stream",
     "text": [
      "Processing tasks:  66%|██████▋   | 880/1328 [01:00<07:41,  1.03s/it]"
     ]
    },
    {
     "name": "stdout",
     "output_type": "stream",
     "text": [
      "Request id: c1360384-4348-97d8-a476-133d94641112, Status code: 429, error code: Throttling.RateQuota, error message: Requests rate limit exceeded, please try again later.\n"
     ]
    },
    {
     "name": "stderr",
     "output_type": "stream",
     "text": [
      "Processing tasks:  66%|██████▋   | 881/1328 [01:01<07:15,  1.03it/s]"
     ]
    },
    {
     "name": "stdout",
     "output_type": "stream",
     "text": [
      "Request id: 553bf8ba-b3f1-9f6a-9e9a-4b66a798a5ec, Status code: 429, error code: Throttling.RateQuota, error message: Requests rate limit exceeded, please try again later.\n"
     ]
    },
    {
     "name": "stderr",
     "output_type": "stream",
     "text": [
      "Processing tasks:  70%|██████▉   | 925/1328 [02:03<01:01,  6.53it/s]  "
     ]
    },
    {
     "name": "stdout",
     "output_type": "stream",
     "text": [
      "Request id: a8ee3a3c-47cf-913c-8826-bd9341b6f1f1, Status code: 429, error code: Throttling.RateQuota, error message: Requests rate limit exceeded, please try again later.\n"
     ]
    },
    {
     "name": "stderr",
     "output_type": "stream",
     "text": [
      "Processing tasks:  70%|██████▉   | 927/1328 [02:04<01:23,  4.82it/s]"
     ]
    },
    {
     "name": "stdout",
     "output_type": "stream",
     "text": [
      "Request id: 9353fb32-aa4e-9574-8a29-a74507dddc32, Status code: 429, error code: Throttling.RateQuota, error message: Requests rate limit exceeded, please try again later.\n"
     ]
    },
    {
     "name": "stderr",
     "output_type": "stream",
     "text": [
      "Processing tasks:  70%|██████▉   | 928/1328 [02:04<01:43,  3.86it/s]"
     ]
    },
    {
     "name": "stdout",
     "output_type": "stream",
     "text": [
      "Request id: 8de10dcb-1017-9e79-8590-00459dd75fab, Status code: 429, error code: Throttling.RateQuota, error message: Requests rate limit exceeded, please try again later.\n"
     ]
    },
    {
     "name": "stderr",
     "output_type": "stream",
     "text": [
      "Processing tasks:  70%|██████▉   | 929/1328 [02:05<02:29,  2.66it/s]"
     ]
    },
    {
     "name": "stdout",
     "output_type": "stream",
     "text": [
      "Request id: 51087568-fa2d-9cc7-9f15-5d50b2fb8557, Status code: 429, error code: Throttling.RateQuota, error message: Requests rate limit exceeded, please try again later.\n"
     ]
    },
    {
     "name": "stderr",
     "output_type": "stream",
     "text": [
      "Processing tasks:  70%|███████   | 930/1328 [02:05<02:22,  2.79it/s]"
     ]
    },
    {
     "name": "stdout",
     "output_type": "stream",
     "text": [
      "Request id: 8653484d-1236-925e-9ccd-5e9835c6dc02, Status code: 429, error code: Throttling.RateQuota, error message: Requests rate limit exceeded, please try again later.\n"
     ]
    },
    {
     "name": "stderr",
     "output_type": "stream",
     "text": [
      "Processing tasks:  70%|███████   | 932/1328 [02:06<02:47,  2.37it/s]"
     ]
    },
    {
     "name": "stdout",
     "output_type": "stream",
     "text": [
      "Request id: d0ff8cc9-7e64-968d-9f92-ee611f559a12, Status code: 429, error code: Throttling.RateQuota, error message: Requests rate limit exceeded, please try again later.\n",
      "Request id: 11801a8b-62b4-91d1-8008-155ccc444fb3, Status code: 429, error code: Throttling.RateQuota, error message: Requests rate limit exceeded, please try again later.\n",
      "Request id: e03bb662-cf5d-96e6-bc42-25527ae9ccee, Status code: 429, error code: Throttling.RateQuota, error message: Requests rate limit exceeded, please try again later.\n"
     ]
    },
    {
     "name": "stderr",
     "output_type": "stream",
     "text": [
      "Processing tasks:  70%|███████   | 934/1328 [02:07<02:12,  2.98it/s]"
     ]
    },
    {
     "name": "stdout",
     "output_type": "stream",
     "text": [
      "Request id: 5a42bae7-2f86-9f43-8a34-5c19c25e13fa, Status code: 429, error code: Throttling.RateQuota, error message: Requests rate limit exceeded, please try again later.\n"
     ]
    },
    {
     "name": "stderr",
     "output_type": "stream",
     "text": [
      "Processing tasks:  70%|███████   | 935/1328 [02:07<02:13,  2.94it/s]"
     ]
    },
    {
     "name": "stdout",
     "output_type": "stream",
     "text": [
      "Request id: 711aa52e-7959-9479-9944-bf69027040ee, Status code: 429, error code: Throttling.RateQuota, error message: Requests rate limit exceeded, please try again later.\n",
      "Request id: 31873236-f2bd-9a73-a449-ca119b01fd14, Status code: 429, error code: Throttling.RateQuota, error message: Requests rate limit exceeded, please try again later.\n"
     ]
    },
    {
     "name": "stderr",
     "output_type": "stream",
     "text": [
      "Processing tasks:  71%|███████   | 937/1328 [02:08<02:09,  3.02it/s]"
     ]
    },
    {
     "name": "stdout",
     "output_type": "stream",
     "text": [
      "Request id: 8b3361a3-6e38-93e3-b8af-06824fc39b61, Status code: 429, error code: Throttling.RateQuota, error message: Requests rate limit exceeded, please try again later.\n"
     ]
    },
    {
     "name": "stderr",
     "output_type": "stream",
     "text": [
      "Processing tasks:  75%|███████▌  | 998/1328 [02:51<04:02,  1.36it/s]"
     ]
    },
    {
     "name": "stdout",
     "output_type": "stream",
     "text": [
      "Request id: a26dc315-2bea-9df1-ade4-14c30e6d6023, Status code: 429, error code: Throttling.RateQuota, error message: Requests rate limit exceeded, please try again later.\n"
     ]
    },
    {
     "name": "stderr",
     "output_type": "stream",
     "text": [
      "Processing tasks:  75%|███████▌  | 999/1328 [02:51<03:27,  1.59it/s]"
     ]
    },
    {
     "name": "stdout",
     "output_type": "stream",
     "text": [
      "Request id: d0a68d0c-8638-9075-9618-dde3ff9bed6f, Status code: 429, error code: Throttling.RateQuota, error message: Requests rate limit exceeded, please try again later.\n",
      "Request id: 42575c5c-ddb9-93d4-bf52-7d44bcad70f6, Status code: 429, error code: Throttling.RateQuota, error message: Requests rate limit exceeded, please try again later.\n"
     ]
    },
    {
     "name": "stderr",
     "output_type": "stream",
     "text": [
      "Processing tasks:  75%|███████▌  | 1001/1328 [02:52<03:36,  1.51it/s]"
     ]
    },
    {
     "name": "stdout",
     "output_type": "stream",
     "text": [
      "Request id: e033a963-ab8c-9e51-8c59-eddf406e49c4, Status code: 429, error code: Throttling.RateQuota, error message: Requests rate limit exceeded, please try again later.\n",
      "Request id: ab297d8e-4c8d-9db5-a08b-4c303c665597, Status code: 429, error code: Throttling.RateQuota, error message: Requests rate limit exceeded, please try again later.\n",
      "Request id: 9f0668dd-c783-95d5-850d-1ffafe4e7c94, Status code: 429, error code: Throttling.RateQuota, error message: Requests rate limit exceeded, please try again later.\n",
      "Request id: f0ee0e04-a3a2-9d1d-9ef3-037d0d0317c9, Status code: 429, error code: Throttling.RateQuota, error message: Requests rate limit exceeded, please try again later.\n",
      "Request id: 50f56942-f0f5-9c4d-b74d-7089cfad0585, Status code: 429, error code: Throttling.RateQuota, error message: Requests rate limit exceeded, please try again later.\n",
      "Request id: 594aacc4-6635-9e4a-acea-27436f40cacf, Status code: 429, error code: Throttling.RateQuota, error message: Requests rate limit exceeded, please try again later.\n",
      "Request id: d43475ff-3152-9c91-960b-d96b9b452386, Status code: 429, error code: Throttling.RateQuota, error message: Requests rate limit exceeded, please try again later.\n",
      "Request id: 8b12f5fb-1705-9151-9d3b-e3bfcd7125ae, Status code: 429, error code: Throttling.RateQuota, error message: Requests rate limit exceeded, please try again later.\n",
      "Request id: 42db3f39-cde3-94a2-9ba3-835934759e4a, Status code: 429, error code: Throttling.RateQuota, error message: Requests rate limit exceeded, please try again later.\n",
      "Request id: e17d0c94-b66a-998f-ac14-914ec29a3d7a, Status code: 429, error code: Throttling.RateQuota, error message: Requests rate limit exceeded, please try again later.\n",
      "Request id: 0f6916a4-4a36-9e80-8c9d-412ff2308ab1, Status code: 429, error code: Throttling.RateQuota, error message: Requests rate limit exceeded, please try again later.\n",
      "Request id: 3973432a-cc72-9cd5-8643-69ac39925b91, Status code: 429, error code: Throttling.RateQuota, error message: Requests rate limit exceeded, please try again later.\n",
      "Request id: 9d87662e-0119-97d6-96bc-4ec00a51d5d1, Status code: 429, error code: Throttling.RateQuota, error message: Requests rate limit exceeded, please try again later.\n"
     ]
    },
    {
     "name": "stderr",
     "output_type": "stream",
     "text": [
      "Processing tasks:  82%|████████▏ | 1095/1328 [04:22<01:09,  3.36it/s]  "
     ]
    },
    {
     "name": "stdout",
     "output_type": "stream",
     "text": [
      "Request id: dc757313-ea1c-914f-83a6-bf495c28cfd6, Status code: 429, error code: Throttling.RateQuota, error message: Requests rate limit exceeded, please try again later.\n",
      "Request id: 25276d2a-aef7-9f9d-ab96-cb6961aa1f33, Status code: 429, error code: Throttling.RateQuota, error message: Requests rate limit exceeded, please try again later.\n"
     ]
    },
    {
     "name": "stderr",
     "output_type": "stream",
     "text": [
      "Processing tasks:  83%|████████▎ | 1098/1328 [04:23<00:49,  4.61it/s]"
     ]
    },
    {
     "name": "stdout",
     "output_type": "stream",
     "text": [
      "Request id: ca019d05-e370-9ef3-b820-e96d12d88a2d, Status code: 429, error code: Throttling.RateQuota, error message: Requests rate limit exceeded, please try again later.\n",
      "Request id: 6580040b-a08a-9c22-ac2d-21315c68c94e, Status code: 429, error code: Throttling.RateQuota, error message: Requests rate limit exceeded, please try again later.\n",
      "Request id: 22e174f9-7d4e-9ca9-a3f4-505b47c3dfad, Status code: 429, error code: Throttling.RateQuota, error message: Requests rate limit exceeded, please try again later.\n"
     ]
    },
    {
     "name": "stderr",
     "output_type": "stream",
     "text": [
      "Processing tasks:  83%|████████▎ | 1100/1328 [04:23<00:39,  5.84it/s]"
     ]
    },
    {
     "name": "stdout",
     "output_type": "stream",
     "text": [
      "Request id: 9a2c6c1c-3e3f-9c93-96a8-092a08349502, Status code: 429, error code: Throttling.RateQuota, error message: Requests rate limit exceeded, please try again later.\n",
      "Request id: 0fb72a0a-66c9-96b2-bc9c-84215b4699b6, Status code: 429, error code: Throttling.RateQuota, error message: Requests rate limit exceeded, please try again later.\n",
      "Request id: 1fd62b2c-878d-9339-9320-e4d27ed918b8, Status code: 429, error code: Throttling.RateQuota, error message: Requests rate limit exceeded, please try again later.\n"
     ]
    },
    {
     "name": "stderr",
     "output_type": "stream",
     "text": [
      "Processing tasks:  83%|████████▎ | 1102/1328 [04:24<00:48,  4.62it/s]"
     ]
    },
    {
     "name": "stdout",
     "output_type": "stream",
     "text": [
      "Request id: a6953f4c-403f-9a0d-865d-a23928d4d566, Status code: 429, error code: Throttling.RateQuota, error message: Requests rate limit exceeded, please try again later.\n",
      "Request id: 52dca20d-b2be-952c-b97e-fff506a8aebe, Status code: 429, error code: Throttling.RateQuota, error message: Requests rate limit exceeded, please try again later.\n"
     ]
    },
    {
     "name": "stderr",
     "output_type": "stream",
     "text": [
      "Processing tasks:  83%|████████▎ | 1105/1328 [04:24<00:46,  4.83it/s]"
     ]
    },
    {
     "name": "stdout",
     "output_type": "stream",
     "text": [
      "Request id: e747af6e-3245-9bd2-a5b5-dcab5a032fda, Status code: 429, error code: Throttling.RateQuota, error message: Requests rate limit exceeded, please try again later.\n",
      "Request id: 69fe638c-af10-9e8e-9f83-d3fbadf35f05, Status code: 429, error code: Throttling.RateQuota, error message: Requests rate limit exceeded, please try again later.\n",
      "Request id: 278644e5-e0ed-97f1-bf0b-9b07e810567b, Status code: 429, error code: Throttling.RateQuota, error message: Requests rate limit exceeded, please try again later.\n",
      "Request id: f2cef69e-0a6a-99ea-886a-101fda6d3bcc, Status code: 429, error code: Throttling.RateQuota, error message: Requests rate limit exceeded, please try again later.\n"
     ]
    },
    {
     "name": "stderr",
     "output_type": "stream",
     "text": [
      "Processing tasks:  83%|████████▎ | 1108/1328 [04:27<01:53,  1.94it/s]"
     ]
    },
    {
     "name": "stdout",
     "output_type": "stream",
     "text": [
      "Request id: 6b4fd43a-cecf-969e-bf2a-5411eedbf292, Status code: 429, error code: Throttling.RateQuota, error message: Requests rate limit exceeded, please try again later.\n"
     ]
    },
    {
     "name": "stderr",
     "output_type": "stream",
     "text": [
      "Processing tasks:  84%|████████▎ | 1109/1328 [04:29<02:43,  1.34it/s]"
     ]
    },
    {
     "name": "stdout",
     "output_type": "stream",
     "text": [
      "Request id: 9182b52a-cdfb-9425-af89-6c0e81cef091, Status code: 429, error code: Throttling.RateQuota, error message: Requests rate limit exceeded, please try again later.\n"
     ]
    },
    {
     "name": "stderr",
     "output_type": "stream",
     "text": [
      "Processing tasks:  87%|████████▋ | 1156/1328 [05:35<00:27,  6.23it/s]"
     ]
    },
    {
     "name": "stdout",
     "output_type": "stream",
     "text": [
      "Request id: c91cc48d-01fa-9e43-a04f-459eca3fae9a, Status code: 429, error code: Throttling.RateQuota, error message: Requests rate limit exceeded, please try again later.\n",
      "Request id: 28bfc155-fa94-980e-8bb9-ce08d8f621ca, Status code: 429, error code: Throttling.RateQuota, error message: Requests rate limit exceeded, please try again later.\n",
      "Request id: 88777e31-050b-9d40-8338-6b7fb54647fc, Status code: 429, error code: Throttling.RateQuota, error message: Requests rate limit exceeded, please try again later.\n",
      "Request id: 474ac00b-d7ac-9d72-a60c-6c60e388abcf, Status code: 429, error code: Throttling.RateQuota, error message: Requests rate limit exceeded, please try again later.\n"
     ]
    },
    {
     "name": "stderr",
     "output_type": "stream",
     "text": [
      "Processing tasks:  87%|████████▋ | 1158/1328 [05:35<00:33,  5.03it/s]"
     ]
    },
    {
     "name": "stdout",
     "output_type": "stream",
     "text": [
      "Request id: 20ed5bf6-95a7-92a7-a06c-489b79e89c98, Status code: 429, error code: Throttling.RateQuota, error message: Requests rate limit exceeded, please try again later.\n"
     ]
    },
    {
     "name": "stderr",
     "output_type": "stream",
     "text": [
      "Processing tasks:  87%|████████▋ | 1159/1328 [05:36<00:51,  3.29it/s]"
     ]
    },
    {
     "name": "stdout",
     "output_type": "stream",
     "text": [
      "Request id: 1c21ec4c-522b-9e15-8448-7dffd3078355, Status code: 429, error code: Throttling.RateQuota, error message: Requests rate limit exceeded, please try again later.\n",
      "Request id: 2c138b05-14b1-983d-b5a7-11ec6cc382c7, Status code: 429, error code: Throttling.RateQuota, error message: Requests rate limit exceeded, please try again later.\n"
     ]
    },
    {
     "name": "stderr",
     "output_type": "stream",
     "text": [
      "Processing tasks:  88%|████████▊ | 1162/1328 [05:37<00:44,  3.75it/s]"
     ]
    },
    {
     "name": "stdout",
     "output_type": "stream",
     "text": [
      "Request id: bc39c899-ce01-9744-bdd0-1f9f5b725d70, Status code: 429, error code: Throttling.RateQuota, error message: Requests rate limit exceeded, please try again later.\n",
      "Request id: 0132cde5-8c24-9fb3-b90d-26ab7b6de1bd, Status code: 429, error code: Throttling.RateQuota, error message: Requests rate limit exceeded, please try again later.\n",
      "Request id: 0f445f12-c740-9c78-bc2a-56755af39b11, Status code: 429, error code: Throttling.RateQuota, error message: Requests rate limit exceeded, please try again later.\n"
     ]
    },
    {
     "name": "stderr",
     "output_type": "stream",
     "text": [
      "Processing tasks:  88%|████████▊ | 1164/1328 [05:37<00:37,  4.35it/s]"
     ]
    },
    {
     "name": "stdout",
     "output_type": "stream",
     "text": [
      "Request id: c32d8b95-cbe6-98ac-9d7f-78222bcbf2cc, Status code: 429, error code: Throttling.RateQuota, error message: Requests rate limit exceeded, please try again later.\n"
     ]
    },
    {
     "name": "stderr",
     "output_type": "stream",
     "text": [
      "Processing tasks:  88%|████████▊ | 1165/1328 [05:38<00:55,  2.94it/s]"
     ]
    },
    {
     "name": "stdout",
     "output_type": "stream",
     "text": [
      "Request id: 640dca65-12fd-99ce-b38b-0b4384ee4605, Status code: 429, error code: Throttling.RateQuota, error message: Requests rate limit exceeded, please try again later.\n"
     ]
    },
    {
     "name": "stderr",
     "output_type": "stream",
     "text": [
      "Processing tasks:  88%|████████▊ | 1167/1328 [05:38<00:50,  3.21it/s]"
     ]
    },
    {
     "name": "stdout",
     "output_type": "stream",
     "text": [
      "Request id: ec4c83b1-83c1-9133-be85-e3f7be4e1f00, Status code: 429, error code: Throttling.RateQuota, error message: Requests rate limit exceeded, please try again later.\n",
      "Request id: a7036b36-c3e3-9985-b884-34f0f0f68cb9, Status code: 429, error code: Throttling.RateQuota, error message: Requests rate limit exceeded, please try again later.\n"
     ]
    },
    {
     "name": "stderr",
     "output_type": "stream",
     "text": [
      "Processing tasks:  88%|████████▊ | 1168/1328 [05:39<01:04,  2.48it/s]"
     ]
    },
    {
     "name": "stdout",
     "output_type": "stream",
     "text": [
      "Request id: 39873883-cf42-94b0-a8b4-635f5bc0d6c8, Status code: 429, error code: Throttling.RateQuota, error message: Requests rate limit exceeded, please try again later.\n"
     ]
    },
    {
     "name": "stderr",
     "output_type": "stream",
     "text": [
      "Processing tasks:  88%|████████▊ | 1169/1328 [05:43<03:54,  1.47s/it]"
     ]
    },
    {
     "name": "stdout",
     "output_type": "stream",
     "text": [
      "Request id: 453d6aa7-ad19-9f35-883a-7f1184cf4856, Status code: 429, error code: Throttling.RateQuota, error message: Requests rate limit exceeded, please try again later.\n"
     ]
    },
    {
     "name": "stderr",
     "output_type": "stream",
     "text": [
      "Processing tasks:  91%|█████████▏| 1215/1328 [06:46<00:14,  7.58it/s]"
     ]
    },
    {
     "name": "stdout",
     "output_type": "stream",
     "text": [
      "Request id: e88215b2-38d5-9730-be0d-2b3aadae7c6d, Status code: 429, error code: Throttling.RateQuota, error message: Requests rate limit exceeded, please try again later.\n",
      "Request id: aa7a7cc7-80d2-981b-9e83-9efe537a8e1b, Status code: 429, error code: Throttling.RateQuota, error message: Requests rate limit exceeded, please try again later.\n",
      "Request id: 743618be-fa31-9ee0-b668-d8fdb68abb23, Status code: 429, error code: Throttling.RateQuota, error message: Requests rate limit exceeded, please try again later.\n"
     ]
    },
    {
     "name": "stderr",
     "output_type": "stream",
     "text": [
      "Processing tasks:  92%|█████████▏| 1219/1328 [06:46<00:13,  7.93it/s]"
     ]
    },
    {
     "name": "stdout",
     "output_type": "stream",
     "text": [
      "Request id: 0a5cbca9-0c53-9ea7-a865-ccf7622bf529, Status code: 429, error code: Throttling.RateQuota, error message: Requests rate limit exceeded, please try again later.\n",
      "Request id: 4f928c47-9efc-960e-80bc-2d3e293356ef, Status code: 429, error code: Throttling.RateQuota, error message: Requests rate limit exceeded, please try again later.\n",
      "Request id: af61b518-a3da-9642-9168-7d1f6083cc57, Status code: 429, error code: Throttling.RateQuota, error message: Requests rate limit exceeded, please try again later.\n",
      "Request id: 3b643db2-db2b-928e-8e56-3ad909aea6b8, Status code: 429, error code: Throttling.RateQuota, error message: Requests rate limit exceeded, please try again later.\n"
     ]
    },
    {
     "name": "stderr",
     "output_type": "stream",
     "text": [
      "Processing tasks:  92%|█████████▏| 1222/1328 [06:47<00:16,  6.30it/s]"
     ]
    },
    {
     "name": "stdout",
     "output_type": "stream",
     "text": [
      "Request id: 0b2aceef-14cd-9d8e-aa51-be5e57607eeb, Status code: 429, error code: Throttling.RateQuota, error message: Requests rate limit exceeded, please try again later.\n",
      "Request id: 11ecf12f-5622-9a8a-a1f7-96e5c9ca5022, Status code: 429, error code: Throttling.RateQuota, error message: Requests rate limit exceeded, please try again later.\n",
      "Request id: 73ff8a4c-025d-9a20-a969-68526c005d12, Status code: 429, error code: Throttling.RateQuota, error message: Requests rate limit exceeded, please try again later.\n",
      "Request id: 0b776a33-df00-995b-8153-7ca14ceb9930, Status code: 429, error code: Throttling.RateQuota, error message: Requests rate limit exceeded, please try again later.\n"
     ]
    },
    {
     "name": "stderr",
     "output_type": "stream",
     "text": [
      "Processing tasks:  92%|█████████▏| 1225/1328 [06:47<00:12,  8.07it/s]"
     ]
    },
    {
     "name": "stdout",
     "output_type": "stream",
     "text": [
      "Request id: 0eadd79e-f787-9b4b-9475-d3c217ae8951, Status code: 429, error code: Throttling.RateQuota, error message: Requests rate limit exceeded, please try again later.\n"
     ]
    },
    {
     "name": "stderr",
     "output_type": "stream",
     "text": [
      "Processing tasks:  92%|█████████▏| 1226/1328 [06:48<00:16,  6.13it/s]"
     ]
    },
    {
     "name": "stdout",
     "output_type": "stream",
     "text": [
      "Request id: 4172424b-f6d3-959f-8b9e-5236daab089a, Status code: 429, error code: Throttling.RateQuota, error message: Requests rate limit exceeded, please try again later.\n"
     ]
    },
    {
     "name": "stderr",
     "output_type": "stream",
     "text": [
      "Processing tasks:  92%|█████████▏| 1227/1328 [06:48<00:20,  5.00it/s]"
     ]
    },
    {
     "name": "stdout",
     "output_type": "stream",
     "text": [
      "Request id: ce3b0871-2dde-9342-b213-c090725ef4a7, Status code: 429, error code: Throttling.RateQuota, error message: Requests rate limit exceeded, please try again later.\n"
     ]
    },
    {
     "name": "stderr",
     "output_type": "stream",
     "text": [
      "Processing tasks:  92%|█████████▏| 1228/1328 [06:49<00:29,  3.36it/s]"
     ]
    },
    {
     "name": "stdout",
     "output_type": "stream",
     "text": [
      "Request id: 8ff44d5e-d89f-9b61-8c28-dddf8f6181bd, Status code: 429, error code: Throttling.RateQuota, error message: Requests rate limit exceeded, please try again later.\n",
      "Request id: 5fb14641-0a7c-9df5-9b68-a47048247ac3, Status code: 429, error code: Throttling.RateQuota, error message: Requests rate limit exceeded, please try again later.\n"
     ]
    },
    {
     "name": "stderr",
     "output_type": "stream",
     "text": [
      "Processing tasks:  96%|█████████▌| 1276/1328 [07:57<00:11,  4.36it/s]"
     ]
    },
    {
     "name": "stdout",
     "output_type": "stream",
     "text": [
      "Request id: 73a8a1b2-18aa-943f-941d-6c6bebd4459b, Status code: 429, error code: Throttling.RateQuota, error message: Requests rate limit exceeded, please try again later.\n",
      "Request id: bff74cb7-f1a9-97b4-bbf6-96d4e294f3db, Status code: 429, error code: Throttling.RateQuota, error message: Requests rate limit exceeded, please try again later.\n",
      "Request id: 63b5bbdb-d25e-94d1-adfe-8cf606833cf5, Status code: 429, error code: Throttling.RateQuota, error message: Requests rate limit exceeded, please try again later.\n"
     ]
    },
    {
     "name": "stderr",
     "output_type": "stream",
     "text": [
      "Processing tasks:  96%|█████████▌| 1277/1328 [07:57<00:16,  3.08it/s]"
     ]
    },
    {
     "name": "stdout",
     "output_type": "stream",
     "text": [
      "Request id: 26f043fa-d4d6-9f97-9d02-3290d737ab4d, Status code: 429, error code: Throttling.RateQuota, error message: Requests rate limit exceeded, please try again later.\n",
      "Request id: ecf2056f-032b-9167-ba55-99b7e07024a7, Status code: 429, error code: Throttling.RateQuota, error message: Requests rate limit exceeded, please try again later.\n",
      "Request id: 46f69d83-59e4-953c-b643-ae4cf0eeba1d, Status code: 429, error code: Throttling.RateQuota, error message: Requests rate limit exceeded, please try again later.\n"
     ]
    },
    {
     "name": "stderr",
     "output_type": "stream",
     "text": [
      "Processing tasks:  96%|█████████▋| 1280/1328 [07:58<00:14,  3.33it/s]"
     ]
    },
    {
     "name": "stdout",
     "output_type": "stream",
     "text": [
      "Request id: 7b79e129-3786-9db3-9052-621c2207e6c1, Status code: 429, error code: Throttling.RateQuota, error message: Requests rate limit exceeded, please try again later.\n"
     ]
    },
    {
     "name": "stderr",
     "output_type": "stream",
     "text": [
      "Processing tasks:  96%|█████████▋| 1281/1328 [07:59<00:16,  2.78it/s]"
     ]
    },
    {
     "name": "stdout",
     "output_type": "stream",
     "text": [
      "Request id: 08d5273c-578b-9b3c-8acc-7bd326f0bc5e, Status code: 429, error code: Throttling.RateQuota, error message: Requests rate limit exceeded, please try again later.\n",
      "Request id: 4958562b-53dd-9108-9afc-1dc809910f43, Status code: 429, error code: Throttling.RateQuota, error message: Requests rate limit exceeded, please try again later.\n"
     ]
    },
    {
     "name": "stderr",
     "output_type": "stream",
     "text": [
      "Processing tasks:  97%|█████████▋| 1283/1328 [07:59<00:13,  3.29it/s]"
     ]
    },
    {
     "name": "stdout",
     "output_type": "stream",
     "text": [
      "Request id: f365a310-e29e-9b48-a4ab-0d908283b58c, Status code: 429, error code: Throttling.RateQuota, error message: Requests rate limit exceeded, please try again later.\n",
      "Request id: 95c4ba4b-49ed-9ef1-8138-5d1be9d6b708, Status code: 429, error code: Throttling.RateQuota, error message: Requests rate limit exceeded, please try again later.\n"
     ]
    },
    {
     "name": "stderr",
     "output_type": "stream",
     "text": [
      "Processing tasks:  97%|█████████▋| 1286/1328 [08:00<00:13,  3.15it/s]"
     ]
    },
    {
     "name": "stdout",
     "output_type": "stream",
     "text": [
      "Request id: d97545fc-90a0-90f9-a61a-4e2f9213f0f7, Status code: 429, error code: Throttling.RateQuota, error message: Requests rate limit exceeded, please try again later.\n",
      "Request id: 14d489c2-bc22-96b0-8d2c-01071181f454, Status code: 429, error code: Throttling.RateQuota, error message: Requests rate limit exceeded, please try again later.\n"
     ]
    },
    {
     "name": "stderr",
     "output_type": "stream",
     "text": [
      "Processing tasks:  97%|█████████▋| 1287/1328 [08:02<00:27,  1.51it/s]"
     ]
    },
    {
     "name": "stdout",
     "output_type": "stream",
     "text": [
      "Request id: 80af99df-897b-9614-85c3-51aaf0428b0f, Status code: 429, error code: Throttling.RateQuota, error message: Requests rate limit exceeded, please try again later.\n"
     ]
    },
    {
     "name": "stderr",
     "output_type": "stream",
     "text": [
      "Processing tasks:  97%|█████████▋| 1288/1328 [08:03<00:28,  1.40it/s]"
     ]
    },
    {
     "name": "stdout",
     "output_type": "stream",
     "text": [
      "Request id: 8018c6c1-60d6-9821-ba20-9bd18977b861, Status code: 429, error code: Throttling.RateQuota, error message: Requests rate limit exceeded, please try again later.\n"
     ]
    },
    {
     "name": "stderr",
     "output_type": "stream",
     "text": [
      "Processing tasks:  97%|█████████▋| 1289/1328 [08:06<00:55,  1.42s/it]"
     ]
    },
    {
     "name": "stdout",
     "output_type": "stream",
     "text": [
      "Request id: a863f964-469c-9171-a078-1153901c63c3, Status code: 429, error code: Throttling.RateQuota, error message: Requests rate limit exceeded, please try again later.\n"
     ]
    },
    {
     "name": "stderr",
     "output_type": "stream",
     "text": [
      "Processing tasks:  99%|█████████▉| 1320/1328 [09:04<00:02,  3.23it/s]"
     ]
    },
    {
     "name": "stdout",
     "output_type": "stream",
     "text": [
      "Request id: 5e925eb5-d5d1-95be-93f3-2813c87d7477, Status code: 400, error code: DataInspectionFailed, error message: Output data may contain inappropriate content.\n"
     ]
    },
    {
     "name": "stderr",
     "output_type": "stream",
     "text": [
      "Processing tasks: 100%|█████████▉| 1327/1328 [09:17<00:02,  2.65s/it]"
     ]
    }
   ],
   "source": [
    "if __name__ == '__main__':\n",
    "\n",
    "    a = extract(\"\"\"根据欧几里得算法，逐步解析计算两个数6和7的最大公约数（gcd）的步骤如下：\n",
    "\n",
    "1. 判断6和7是否相等：不相等。\n",
    "2. 判断6和7大小关系，7 > 6，所以用更大的数7减去较小的数6得到结果1。\n",
    "3. 现在计算6和1的最大公约数。\n",
    "4. 6 > 1，根据算法用更大的数6减去较小的数1得到结果5。\n",
    "5. 再计算5和1的最大公约数。\n",
    "6. 5 > 1，用5减去1得到结果4。\n",
    "7. 再计算4和1的最大公约数。\n",
    "8. 4 > 1，用4减去1得到结果3。\n",
    "9. 再计算3和1的最大公约数。\n",
    "10. 3 > 1，用3减去1得到结果2。\n",
    "11. 再计算2和1的最大公约数。\n",
    "12. 2 > 1，用2减去1得到结果1。\n",
    "13. 最后计算1和1的最大公约数，两数相等，gcd即为这两个数，也就是1。\n",
    "\n",
    "因此，6和7的最大公约数是1。\n",
    "\n",
    "答案是：C.\"\"\")\n",
    "\n",
    "    print(a)\n",
    "    return_list = main('round1_test_data.jsonl', 'upload.jsonl')\n"
   ]
  },
  {
   "cell_type": "code",
   "execution_count": null,
   "metadata": {
    "tags": []
   },
   "outputs": [],
   "source": [
    "def has_complete_answer(questions):\n",
    "    # 这里假设完整答案的判断逻辑是：每个question都有一个'answer'键\n",
    "    for question in questions:\n",
    "        if 'answer' not in question:\n",
    "            return False\n",
    "    return True\n",
    "\n",
    "def filter_problems(data):\n",
    "    result = []\n",
    "    problem_set = set()\n",
    "\n",
    "    for item in data:\n",
    "        # print('处理的item' ,item)\n",
    "        problem = item['problem']\n",
    "        if problem in problem_set:\n",
    "            # 找到已存在的字典\n",
    "            for existing_item in result:\n",
    "                if existing_item['problem'] == problem:\n",
    "                    # 如果当前字典有完整答案，替换已存在的字典\n",
    "                    if has_complete_answer(item['questions']):\n",
    "                        existing_item['questions'] = item['questions']\n",
    "                        existing_item['id'] = item['id']\n",
    "                    break\n",
    "        else:\n",
    "            # 如果当前字典有完整答案，添加到结果列表\n",
    "            if has_complete_answer(item['questions']):\n",
    "                result.append(item)\n",
    "                problem_set.add(problem)\n",
    "\n",
    "    return result"
   ]
  },
  {
   "cell_type": "code",
   "execution_count": null,
   "metadata": {
    "scrolled": true,
    "tags": []
   },
   "outputs": [],
   "source": [
    "return_list\n",
    "return_list = filter_problems(return_list)\n",
    "sorted_data = sorted(return_list, key=lambda x: int(str(x['id'])[-3:]))\n",
    "print(sorted_data)"
   ]
  },
  {
   "cell_type": "code",
   "execution_count": null,
   "metadata": {
    "scrolled": true,
    "tags": []
   },
   "outputs": [],
   "source": [
    "sorted_data"
   ]
  },
  {
   "cell_type": "code",
   "execution_count": null,
   "metadata": {
    "ExecutionIndicator": {
     "show": true
    },
    "tags": []
   },
   "outputs": [],
   "source": [
    "def find_missing_ids(dict_list):\n",
    "    # 提取所有序号\n",
    "    extracted_ids = {int(d['id'][-3:]) for d in dict_list}\n",
    "    \n",
    "    # 创建0-500的序号集合\n",
    "    all_ids = set(range(500))\n",
    "    \n",
    "    # 找出缺失的序号\n",
    "    missing_ids = all_ids - extracted_ids\n",
    "    \n",
    "    return sorted(missing_ids)\n",
    "\n",
    "# 示例字典列表\n",
    "dict_list = sorted_data\n",
    "\n",
    "# 找出缺失的序号\n",
    "missing_ids = find_missing_ids(dict_list)\n",
    "print(\"缺失的序号:\", missing_ids)"
   ]
  },
  {
   "cell_type": "code",
   "execution_count": null,
   "metadata": {
    "tags": []
   },
   "outputs": [],
   "source": [
    "len(missing_ids)"
   ]
  },
  {
   "cell_type": "code",
   "execution_count": null,
   "metadata": {
    "ExecutionIndicator": {
     "show": true
    },
    "tags": []
   },
   "outputs": [],
   "source": [
    "data  = []\n",
    "with open('round1_test_data.jsonl') as reader:\n",
    "    for id,line in enumerate(reader):\n",
    "        if(id in missing_ids):\n",
    "            sample = json.loads(line)\n",
    "            for question in sample['questions']:\n",
    "                question['answer'] = 'A'\n",
    "            sorted_data.append(sample)\n",
    "sorted_data = sorted(sorted_data, key=lambda x: int(str(x['id'])[-3:]))\n",
    "        "
   ]
  },
  {
   "cell_type": "code",
   "execution_count": null,
   "metadata": {
    "ExecutionIndicator": {
     "show": false
    },
    "tags": []
   },
   "outputs": [],
   "source": [
    "with open('upload.jsonl', 'w') as writer:\n",
    "    for sample in sorted_data:\n",
    "        writer.write(json.dumps(sample, ensure_ascii=False))\n",
    "        writer.write('\\n')"
   ]
  },
  {
   "cell_type": "code",
   "execution_count": null,
   "metadata": {},
   "outputs": [],
   "source": []
  }
 ],
 "metadata": {
  "kernelspec": {
   "display_name": "Python 3 (ipykernel)",
   "language": "python",
   "name": "python3"
  },
  "language_info": {
   "codemirror_mode": {
    "name": "ipython",
    "version": 3
   },
   "file_extension": ".py",
   "mimetype": "text/x-python",
   "name": "python",
   "nbconvert_exporter": "python",
   "pygments_lexer": "ipython3",
   "version": "3.8.10"
  }
 },
 "nbformat": 4,
 "nbformat_minor": 4
}
